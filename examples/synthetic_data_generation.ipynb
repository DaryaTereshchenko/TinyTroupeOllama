{
 "cells": [
  {
   "cell_type": "markdown",
   "metadata": {},
   "source": [
    "# Synthetic Data Generation\n"
   ]
  },
  {
   "cell_type": "code",
   "execution_count": 1,
   "metadata": {},
   "outputs": [
    {
     "name": "stdout",
     "output_type": "stream",
     "text": [
      "\n",
      "!!!!\n",
      "DISCLAIMER: TinyTroupe relies on Artificial Intelligence (AI) models to generate content. \n",
      "The AI models are not perfect and may produce inappropriate or inacurate results. \n",
      "For any serious or consequential use, please review the generated content before using it.\n",
      "!!!!\n",
      "\n",
      "Looking for default config on: /home/dariast/agent_simulation/TinyTroupeOllama/examples/../tinytroupe/config.ini\n",
      "Found custom config on: /home/dariast/agent_simulation/TinyTroupeOllama/examples/config.ini\n",
      "\n",
      "=================================\n",
      "Current TinyTroupe configuration \n",
      "=================================\n",
      "[OpenAI]\n",
      "api_type = ollama\n",
      "azure_api_version = 2023-05-15\n",
      "model = gpt-4o\n",
      "max_tokens = 4000\n",
      "temperature = 0.3\n",
      "freq_penalty = 0.0\n",
      "presence_penalty = 0.0\n",
      "timeout = 60\n",
      "max_attempts = 5\n",
      "waiting_time = 1\n",
      "exponential_backoff_factor = 5\n",
      "embedding_model = text-embedding-3-small\n",
      "cache_api_calls = False\n",
      "cache_file_name = openai_api_cache.pickle\n",
      "max_content_display_length = 1024\n",
      "\n",
      "[Simulation]\n",
      "rai_harmful_content_prevention = True\n",
      "rai_copyright_infringement_prevention = True\n",
      "\n",
      "[Logging]\n",
      "loglevel = ERROR\n",
      "\n",
      "[Ollama]\n",
      "base_url = http://localhost:11434\n",
      "endpoint = /api/chat\n",
      "model = llama3.1\n",
      "temperature = 0.8\n",
      "top_p = 0.95\n",
      "timeout = 60\n",
      "\n"
     ]
    }
   ],
   "source": [
    "import json\n",
    "import sys\n",
    "import csv\n",
    "sys.path.append('..')\n",
    "\n",
    "\n",
    "import tinytroupe\n",
    "from tinytroupe.agent import TinyPerson\n",
    "from tinytroupe.environment import TinyWorld, TinySocialNetwork\n",
    "from tinytroupe.factory import TinyPersonFactory\n",
    "from tinytroupe.extraction import default_extractor as extractor\n",
    "from tinytroupe.extraction import ResultsReducer\n",
    "import tinytroupe.control as control"
   ]
  },
  {
   "cell_type": "markdown",
   "metadata": {},
   "source": [
    "Let's create the specific types of agents we need to collect data."
   ]
  },
  {
   "cell_type": "code",
   "execution_count": 2,
   "metadata": {},
   "outputs": [],
   "source": [
    "factory = TinyPersonFactory(\"A random knowledge worker in a company providing marketing services.\")"
   ]
  },
  {
   "cell_type": "code",
   "execution_count": 3,
   "metadata": {},
   "outputs": [
    {
     "name": "stdout",
     "output_type": "stream",
     "text": [
      "Astrid is a 42 year old Marketing Specialist, French, currently living in France.\n",
      "Lorenzo is a 29 year old Marketing Specialist, Italian, currently living in Italy.\n"
     ]
    },
    {
     "data": {
      "text/plain": [
       "2"
      ]
     },
     "execution_count": 3,
     "metadata": {},
     "output_type": "execute_result"
    }
   ],
   "source": [
    "people = []\n",
    "for i in range(2):\n",
    "    person = factory.generate_person(temperature=1.6)\n",
    "    print(person.minibio())\n",
    "    people.append(person)\n",
    "\n",
    "len(people)"
   ]
  },
  {
   "cell_type": "code",
   "execution_count": 5,
   "metadata": {},
   "outputs": [],
   "source": [
    "company = TinyWorld(\"Some Corp Inc.\", people)"
   ]
  },
  {
   "cell_type": "code",
   "execution_count": 6,
   "metadata": {},
   "outputs": [],
   "source": [
    "company.make_everyone_accessible()"
   ]
  },
  {
   "cell_type": "code",
   "execution_count": 7,
   "metadata": {},
   "outputs": [
    {
     "data": {
      "text/html": [
       "<pre style=\"margin:0px;;white-space:pre;overflow-x:auto;line-height:normal;font-family:Menlo,'DejaVu Sans Mono',consolas,'Courier New',monospace\"><span style=\"color: #00ffff; text-decoration-color: #00ffff; font-weight: bold; font-style: italic; text-decoration: underline\">USER</span><span style=\"color: #00ffff; text-decoration-color: #00ffff; font-weight: bold; font-style: italic\"> --&gt; </span><span style=\"color: #00ffff; text-decoration-color: #00ffff; font-weight: bold; font-style: italic; text-decoration: underline\">Elena</span><span style=\"color: #00ffff; text-decoration-color: #00ffff; font-weight: bold; font-style: italic\">: [CONVERSATION] </span>\n",
       "<span style=\"color: #00ffff; text-decoration-color: #00ffff; font-weight: bold; font-style: italic\">          &gt; Message each other to get work done.</span>\n",
       "</pre>\n"
      ],
      "text/plain": [
       "\u001b[1;3;4;38;5;51mUSER\u001b[0m\u001b[1;3;38;5;51m --> \u001b[0m\u001b[1;3;4;38;5;51mElena\u001b[0m\u001b[1;3;38;5;51m: \u001b[0m\u001b[1;3;38;5;51m[\u001b[0m\u001b[1;3;38;5;51mCONVERSATION\u001b[0m\u001b[1;3;38;5;51m]\u001b[0m\u001b[1;3;38;5;51m \u001b[0m\n",
       "\u001b[1;3;38;5;51m          > Message each other to get work done.\u001b[0m\n"
      ]
     },
     "metadata": {},
     "output_type": "display_data"
    },
    {
     "data": {
      "text/html": [
       "<pre style=\"margin:0px;;white-space:pre;overflow-x:auto;line-height:normal;font-family:Menlo,'DejaVu Sans Mono',consolas,'Courier New',monospace\"><span style=\"color: #00ffff; text-decoration-color: #00ffff; font-weight: bold; font-style: italic; text-decoration: underline\">USER</span><span style=\"color: #00ffff; text-decoration-color: #00ffff; font-weight: bold; font-style: italic\"> --&gt; </span><span style=\"color: #00ffff; text-decoration-color: #00ffff; font-weight: bold; font-style: italic; text-decoration: underline\">Alexander</span><span style=\"color: #00ffff; text-decoration-color: #00ffff; font-weight: bold; font-style: italic\">: [CONVERSATION] </span>\n",
       "<span style=\"color: #00ffff; text-decoration-color: #00ffff; font-weight: bold; font-style: italic\">          &gt; Message each other to get work done.</span>\n",
       "</pre>\n"
      ],
      "text/plain": [
       "\u001b[1;3;4;38;5;51mUSER\u001b[0m\u001b[1;3;38;5;51m --> \u001b[0m\u001b[1;3;4;38;5;51mAlexander\u001b[0m\u001b[1;3;38;5;51m: \u001b[0m\u001b[1;3;38;5;51m[\u001b[0m\u001b[1;3;38;5;51mCONVERSATION\u001b[0m\u001b[1;3;38;5;51m]\u001b[0m\u001b[1;3;38;5;51m \u001b[0m\n",
       "\u001b[1;3;38;5;51m          > Message each other to get work done.\u001b[0m\n"
      ]
     },
     "metadata": {},
     "output_type": "display_data"
    }
   ],
   "source": [
    "company.broadcast(\"Message each other to get work done.\")"
   ]
  },
  {
   "cell_type": "code",
   "execution_count": 8,
   "metadata": {},
   "outputs": [
    {
     "data": {
      "text/html": [
       "<pre style=\"margin:0px;;white-space:pre;overflow-x:auto;line-height:normal;font-family:Menlo,'DejaVu Sans Mono',consolas,'Courier New',monospace\"><span style=\"color: #00ff00; text-decoration-color: #00ff00\">─────────────────────────────────────────── </span>Some Corp Inc. step <span style=\"color: #008080; text-decoration-color: #008080; font-weight: bold\">1</span> of <span style=\"color: #008080; text-decoration-color: #008080; font-weight: bold\">2</span><span style=\"color: #00ff00; text-decoration-color: #00ff00\"> ────────────────────────────────────────────</span>\n",
       "</pre>\n"
      ],
      "text/plain": [
       "\u001b[92m─────────────────────────────────────────── \u001b[0mSome Corp Inc. step \u001b[1;36m1\u001b[0m of \u001b[1;36m2\u001b[0m\u001b[92m ────────────────────────────────────────────\u001b[0m\n"
      ]
     },
     "metadata": {},
     "output_type": "display_data"
    },
    {
     "data": {
      "text/html": [
       "<pre style=\"margin:0px;;white-space:pre;overflow-x:auto;line-height:normal;font-family:Menlo,'DejaVu Sans Mono',consolas,'Courier New',monospace\"><span style=\"color: #7fffff; text-decoration-color: #7fffff; font-style: italic; text-decoration: underline\">Elena</span><span style=\"color: #7fffff; text-decoration-color: #7fffff; font-style: italic\"> --&gt; </span><span style=\"color: #7fffff; text-decoration-color: #7fffff; font-style: italic; text-decoration: underline\">Elena</span><span style=\"color: #7fffff; text-decoration-color: #7fffff; font-style: italic\">: </span><span style=\"color: #7fffff; text-decoration-color: #7fffff; font-weight: bold; font-style: italic\">[</span><span style=\"color: #7fffff; text-decoration-color: #7fffff; font-style: italic\">THOUGHT</span><span style=\"color: #7fffff; text-decoration-color: #7fffff; font-weight: bold; font-style: italic\">]</span><span style=\"color: #7fffff; text-decoration-color: #7fffff; font-style: italic\"> </span>\n",
       "<span style=\"color: #7fffff; text-decoration-color: #7fffff; font-style: italic\">           &gt; I will now act a bit, and then issue DONE.</span>\n",
       "</pre>\n"
      ],
      "text/plain": [
       "\u001b[2;3;4;38;5;51mElena\u001b[0m\u001b[2;3;38;5;51m --> \u001b[0m\u001b[2;3;4;38;5;51mElena\u001b[0m\u001b[2;3;38;5;51m: \u001b[0m\u001b[1;2;3;38;5;51m[\u001b[0m\u001b[2;3;38;5;51mTHOUGHT\u001b[0m\u001b[1;2;3;38;5;51m]\u001b[0m\u001b[2;3;38;5;51m \u001b[0m\n",
       "\u001b[2;3;38;5;51m           > I will now act a bit, and then issue DONE.\u001b[0m\n"
      ]
     },
     "metadata": {},
     "output_type": "display_data"
    },
    {
     "data": {
      "text/html": [
       "<pre style=\"margin:0px;;white-space:pre;overflow-x:auto;line-height:normal;font-family:Menlo,'DejaVu Sans Mono',consolas,'Courier New',monospace\"><span style=\"color: #af00ff; text-decoration-color: #af00ff; text-decoration: underline\">Elena</span><span style=\"color: #af00ff; text-decoration-color: #af00ff\"> acts:  </span>\n",
       "<span style=\"color: #af00ff; text-decoration-color: #af00ff\">           &gt; I'm considering what to do next.</span>\n",
       "</pre>\n"
      ],
      "text/plain": [
       "\u001b[4;38;5;129mElena\u001b[0m\u001b[38;5;129m acts: \u001b[0m\u001b[38;5;129m \u001b[0m\n",
       "\u001b[38;5;129m           > I'm considering what to do next.\u001b[0m\n"
      ]
     },
     "metadata": {},
     "output_type": "display_data"
    },
    {
     "data": {
      "text/html": [
       "<pre style=\"margin:0px;;white-space:pre;overflow-x:auto;line-height:normal;font-family:Menlo,'DejaVu Sans Mono',consolas,'Courier New',monospace\"><span style=\"color: #7fffff; text-decoration-color: #7fffff; font-style: italic; text-decoration: underline\">Elena</span><span style=\"color: #7fffff; text-decoration-color: #7fffff; font-style: italic\"> --&gt; </span><span style=\"color: #7fffff; text-decoration-color: #7fffff; font-style: italic; text-decoration: underline\">Elena</span><span style=\"color: #7fffff; text-decoration-color: #7fffff; font-style: italic\">: </span><span style=\"color: #7fffff; text-decoration-color: #7fffff; font-weight: bold; font-style: italic\">[</span><span style=\"color: #7fffff; text-decoration-color: #7fffff; font-style: italic\">THOUGHT</span><span style=\"color: #7fffff; text-decoration-color: #7fffff; font-weight: bold; font-style: italic\">]</span><span style=\"color: #7fffff; text-decoration-color: #7fffff; font-style: italic\"> </span>\n",
       "<span style=\"color: #7fffff; text-decoration-color: #7fffff; font-style: italic\">           &gt; I will now act a bit, and then issue DONE.</span>\n",
       "</pre>\n"
      ],
      "text/plain": [
       "\u001b[2;3;4;38;5;51mElena\u001b[0m\u001b[2;3;38;5;51m --> \u001b[0m\u001b[2;3;4;38;5;51mElena\u001b[0m\u001b[2;3;38;5;51m: \u001b[0m\u001b[1;2;3;38;5;51m[\u001b[0m\u001b[2;3;38;5;51mTHOUGHT\u001b[0m\u001b[1;2;3;38;5;51m]\u001b[0m\u001b[2;3;38;5;51m \u001b[0m\n",
       "\u001b[2;3;38;5;51m           > I will now act a bit, and then issue DONE.\u001b[0m\n"
      ]
     },
     "metadata": {},
     "output_type": "display_data"
    },
    {
     "data": {
      "text/html": [
       "<pre style=\"margin:0px;;white-space:pre;overflow-x:auto;line-height:normal;font-family:Menlo,'DejaVu Sans Mono',consolas,'Courier New',monospace\"><span style=\"color: #af00ff; text-decoration-color: #af00ff; text-decoration: underline\">Elena</span><span style=\"color: #af00ff; text-decoration-color: #af00ff\"> acts:  </span>\n",
       "<span style=\"color: #af00ff; text-decoration-color: #af00ff\">           &gt; I'm considering what to do next.</span>\n",
       "</pre>\n"
      ],
      "text/plain": [
       "\u001b[4;38;5;129mElena\u001b[0m\u001b[38;5;129m acts: \u001b[0m\u001b[38;5;129m \u001b[0m\n",
       "\u001b[38;5;129m           > I'm considering what to do next.\u001b[0m\n"
      ]
     },
     "metadata": {},
     "output_type": "display_data"
    },
    {
     "data": {
      "text/html": [
       "<pre style=\"margin:0px;;white-space:pre;overflow-x:auto;line-height:normal;font-family:Menlo,'DejaVu Sans Mono',consolas,'Courier New',monospace\"><span style=\"color: #7fffff; text-decoration-color: #7fffff; font-style: italic; text-decoration: underline\">Elena</span><span style=\"color: #7fffff; text-decoration-color: #7fffff; font-style: italic\"> --&gt; </span><span style=\"color: #7fffff; text-decoration-color: #7fffff; font-style: italic; text-decoration: underline\">Elena</span><span style=\"color: #7fffff; text-decoration-color: #7fffff; font-style: italic\">: </span><span style=\"color: #7fffff; text-decoration-color: #7fffff; font-weight: bold; font-style: italic\">[</span><span style=\"color: #7fffff; text-decoration-color: #7fffff; font-style: italic\">THOUGHT</span><span style=\"color: #7fffff; text-decoration-color: #7fffff; font-weight: bold; font-style: italic\">]</span><span style=\"color: #7fffff; text-decoration-color: #7fffff; font-style: italic\"> </span>\n",
       "<span style=\"color: #7fffff; text-decoration-color: #7fffff; font-style: italic\">           &gt; I will now act a bit, and then issue DONE.</span>\n",
       "</pre>\n"
      ],
      "text/plain": [
       "\u001b[2;3;4;38;5;51mElena\u001b[0m\u001b[2;3;38;5;51m --> \u001b[0m\u001b[2;3;4;38;5;51mElena\u001b[0m\u001b[2;3;38;5;51m: \u001b[0m\u001b[1;2;3;38;5;51m[\u001b[0m\u001b[2;3;38;5;51mTHOUGHT\u001b[0m\u001b[1;2;3;38;5;51m]\u001b[0m\u001b[2;3;38;5;51m \u001b[0m\n",
       "\u001b[2;3;38;5;51m           > I will now act a bit, and then issue DONE.\u001b[0m\n"
      ]
     },
     "metadata": {},
     "output_type": "display_data"
    },
    {
     "ename": "KeyboardInterrupt",
     "evalue": "",
     "output_type": "error",
     "traceback": [
      "\u001b[0;31m---------------------------------------------------------------------------\u001b[0m",
      "\u001b[0;31mKeyboardInterrupt\u001b[0m                         Traceback (most recent call last)",
      "Cell \u001b[0;32mIn[8], line 1\u001b[0m\n\u001b[0;32m----> 1\u001b[0m \u001b[43mcompany\u001b[49m\u001b[38;5;241;43m.\u001b[39;49m\u001b[43mrun\u001b[49m\u001b[43m(\u001b[49m\u001b[38;5;241;43m2\u001b[39;49m\u001b[43m)\u001b[49m\n",
      "File \u001b[0;32m~/agent_simulation/TinyTroupeOllama/examples/../tinytroupe/control.py:542\u001b[0m, in \u001b[0;36mtransactional.<locals>.wrapper\u001b[0;34m(*args, **kwargs)\u001b[0m\n\u001b[1;32m    539\u001b[0m logger\u001b[38;5;241m.\u001b[39mdebug(\u001b[38;5;124mf\u001b[39m\u001b[38;5;124m\"\u001b[39m\u001b[38;5;124m-----------------------------------------> Transaction: \u001b[39m\u001b[38;5;132;01m{\u001b[39;00mfunc\u001b[38;5;241m.\u001b[39m\u001b[38;5;18m__name__\u001b[39m\u001b[38;5;132;01m}\u001b[39;00m\u001b[38;5;124m with args \u001b[39m\u001b[38;5;132;01m{\u001b[39;00margs[\u001b[38;5;241m1\u001b[39m:]\u001b[38;5;132;01m}\u001b[39;00m\u001b[38;5;124m and kwargs \u001b[39m\u001b[38;5;132;01m{\u001b[39;00mkwargs\u001b[38;5;132;01m}\u001b[39;00m\u001b[38;5;124m under simulation \u001b[39m\u001b[38;5;132;01m{\u001b[39;00mobj_sim_id\u001b[38;5;132;01m}\u001b[39;00m\u001b[38;5;124m.\u001b[39m\u001b[38;5;124m\"\u001b[39m)\n\u001b[1;32m    541\u001b[0m transaction \u001b[38;5;241m=\u001b[39m Transaction(obj_under_transaction, simulation, func, \u001b[38;5;241m*\u001b[39margs, \u001b[38;5;241m*\u001b[39m\u001b[38;5;241m*\u001b[39mkwargs)\n\u001b[0;32m--> 542\u001b[0m result \u001b[38;5;241m=\u001b[39m \u001b[43mtransaction\u001b[49m\u001b[38;5;241;43m.\u001b[39;49m\u001b[43mexecute\u001b[49m\u001b[43m(\u001b[49m\u001b[43m)\u001b[49m\n\u001b[1;32m    543\u001b[0m \u001b[38;5;28;01mreturn\u001b[39;00m result\n",
      "File \u001b[0;32m~/agent_simulation/TinyTroupeOllama/examples/../tinytroupe/control.py:427\u001b[0m, in \u001b[0;36mTransaction.execute\u001b[0;34m(self)\u001b[0m\n\u001b[1;32m    424\u001b[0m \u001b[38;5;66;03m# Transaction caching will only operate if there is a simulation and it is started\u001b[39;00m\n\u001b[1;32m    425\u001b[0m \u001b[38;5;28;01mif\u001b[39;00m \u001b[38;5;28mself\u001b[39m\u001b[38;5;241m.\u001b[39msimulation \u001b[38;5;129;01mis\u001b[39;00m \u001b[38;5;28;01mNone\u001b[39;00m \u001b[38;5;129;01mor\u001b[39;00m \u001b[38;5;28mself\u001b[39m\u001b[38;5;241m.\u001b[39msimulation\u001b[38;5;241m.\u001b[39mstatus \u001b[38;5;241m==\u001b[39m Simulation\u001b[38;5;241m.\u001b[39mSTATUS_STOPPED:\n\u001b[1;32m    426\u001b[0m     \u001b[38;5;66;03m# Compute the function and return it, no caching, since the simulation is not started\u001b[39;00m\n\u001b[0;32m--> 427\u001b[0m     output \u001b[38;5;241m=\u001b[39m \u001b[38;5;28;43mself\u001b[39;49m\u001b[38;5;241;43m.\u001b[39;49m\u001b[43mfunction\u001b[49m\u001b[43m(\u001b[49m\u001b[38;5;241;43m*\u001b[39;49m\u001b[38;5;28;43mself\u001b[39;49m\u001b[38;5;241;43m.\u001b[39;49m\u001b[43margs\u001b[49m\u001b[43m,\u001b[49m\u001b[43m \u001b[49m\u001b[38;5;241;43m*\u001b[39;49m\u001b[38;5;241;43m*\u001b[39;49m\u001b[38;5;28;43mself\u001b[39;49m\u001b[38;5;241;43m.\u001b[39;49m\u001b[43mkwargs\u001b[49m\u001b[43m)\u001b[49m\n\u001b[1;32m    429\u001b[0m \u001b[38;5;28;01melif\u001b[39;00m \u001b[38;5;28mself\u001b[39m\u001b[38;5;241m.\u001b[39msimulation\u001b[38;5;241m.\u001b[39mstatus \u001b[38;5;241m==\u001b[39m Simulation\u001b[38;5;241m.\u001b[39mSTATUS_STARTED:\n\u001b[1;32m    430\u001b[0m     \u001b[38;5;66;03m# Compute the event hash\u001b[39;00m\n\u001b[1;32m    431\u001b[0m     event_hash \u001b[38;5;241m=\u001b[39m \u001b[38;5;28mself\u001b[39m\u001b[38;5;241m.\u001b[39msimulation\u001b[38;5;241m.\u001b[39m_function_call_hash(\u001b[38;5;28mself\u001b[39m\u001b[38;5;241m.\u001b[39mfunction_name, \u001b[38;5;241m*\u001b[39m\u001b[38;5;28mself\u001b[39m\u001b[38;5;241m.\u001b[39margs, \u001b[38;5;241m*\u001b[39m\u001b[38;5;241m*\u001b[39m\u001b[38;5;28mself\u001b[39m\u001b[38;5;241m.\u001b[39mkwargs)\n",
      "File \u001b[0;32m~/agent_simulation/TinyTroupeOllama/examples/../tinytroupe/environment.py:126\u001b[0m, in \u001b[0;36mTinyWorld.run\u001b[0;34m(self, steps, timedelta_per_step, return_actions)\u001b[0m\n\u001b[1;32m    123\u001b[0m     \u001b[38;5;28;01mif\u001b[39;00m TinyWorld\u001b[38;5;241m.\u001b[39mcommunication_display:\n\u001b[1;32m    124\u001b[0m         \u001b[38;5;28mself\u001b[39m\u001b[38;5;241m.\u001b[39m_display_communication(cur_step\u001b[38;5;241m=\u001b[39mi\u001b[38;5;241m+\u001b[39m\u001b[38;5;241m1\u001b[39m, total_steps\u001b[38;5;241m=\u001b[39msteps, kind\u001b[38;5;241m=\u001b[39m\u001b[38;5;124m'\u001b[39m\u001b[38;5;124mstep\u001b[39m\u001b[38;5;124m'\u001b[39m, timedelta_per_step\u001b[38;5;241m=\u001b[39mtimedelta_per_step)\n\u001b[0;32m--> 126\u001b[0m     agents_actions \u001b[38;5;241m=\u001b[39m \u001b[38;5;28;43mself\u001b[39;49m\u001b[38;5;241;43m.\u001b[39;49m\u001b[43m_step\u001b[49m\u001b[43m(\u001b[49m\u001b[43mtimedelta_per_step\u001b[49m\u001b[38;5;241;43m=\u001b[39;49m\u001b[43mtimedelta_per_step\u001b[49m\u001b[43m)\u001b[49m\n\u001b[1;32m    127\u001b[0m     agents_actions_over_time\u001b[38;5;241m.\u001b[39mappend(agents_actions)\n\u001b[1;32m    129\u001b[0m \u001b[38;5;28;01mif\u001b[39;00m return_actions:\n",
      "File \u001b[0;32m~/agent_simulation/TinyTroupeOllama/examples/../tinytroupe/control.py:542\u001b[0m, in \u001b[0;36mtransactional.<locals>.wrapper\u001b[0;34m(*args, **kwargs)\u001b[0m\n\u001b[1;32m    539\u001b[0m logger\u001b[38;5;241m.\u001b[39mdebug(\u001b[38;5;124mf\u001b[39m\u001b[38;5;124m\"\u001b[39m\u001b[38;5;124m-----------------------------------------> Transaction: \u001b[39m\u001b[38;5;132;01m{\u001b[39;00mfunc\u001b[38;5;241m.\u001b[39m\u001b[38;5;18m__name__\u001b[39m\u001b[38;5;132;01m}\u001b[39;00m\u001b[38;5;124m with args \u001b[39m\u001b[38;5;132;01m{\u001b[39;00margs[\u001b[38;5;241m1\u001b[39m:]\u001b[38;5;132;01m}\u001b[39;00m\u001b[38;5;124m and kwargs \u001b[39m\u001b[38;5;132;01m{\u001b[39;00mkwargs\u001b[38;5;132;01m}\u001b[39;00m\u001b[38;5;124m under simulation \u001b[39m\u001b[38;5;132;01m{\u001b[39;00mobj_sim_id\u001b[38;5;132;01m}\u001b[39;00m\u001b[38;5;124m.\u001b[39m\u001b[38;5;124m\"\u001b[39m)\n\u001b[1;32m    541\u001b[0m transaction \u001b[38;5;241m=\u001b[39m Transaction(obj_under_transaction, simulation, func, \u001b[38;5;241m*\u001b[39margs, \u001b[38;5;241m*\u001b[39m\u001b[38;5;241m*\u001b[39mkwargs)\n\u001b[0;32m--> 542\u001b[0m result \u001b[38;5;241m=\u001b[39m \u001b[43mtransaction\u001b[49m\u001b[38;5;241;43m.\u001b[39;49m\u001b[43mexecute\u001b[49m\u001b[43m(\u001b[49m\u001b[43m)\u001b[49m\n\u001b[1;32m    543\u001b[0m \u001b[38;5;28;01mreturn\u001b[39;00m result\n",
      "File \u001b[0;32m~/agent_simulation/TinyTroupeOllama/examples/../tinytroupe/control.py:427\u001b[0m, in \u001b[0;36mTransaction.execute\u001b[0;34m(self)\u001b[0m\n\u001b[1;32m    424\u001b[0m \u001b[38;5;66;03m# Transaction caching will only operate if there is a simulation and it is started\u001b[39;00m\n\u001b[1;32m    425\u001b[0m \u001b[38;5;28;01mif\u001b[39;00m \u001b[38;5;28mself\u001b[39m\u001b[38;5;241m.\u001b[39msimulation \u001b[38;5;129;01mis\u001b[39;00m \u001b[38;5;28;01mNone\u001b[39;00m \u001b[38;5;129;01mor\u001b[39;00m \u001b[38;5;28mself\u001b[39m\u001b[38;5;241m.\u001b[39msimulation\u001b[38;5;241m.\u001b[39mstatus \u001b[38;5;241m==\u001b[39m Simulation\u001b[38;5;241m.\u001b[39mSTATUS_STOPPED:\n\u001b[1;32m    426\u001b[0m     \u001b[38;5;66;03m# Compute the function and return it, no caching, since the simulation is not started\u001b[39;00m\n\u001b[0;32m--> 427\u001b[0m     output \u001b[38;5;241m=\u001b[39m \u001b[38;5;28;43mself\u001b[39;49m\u001b[38;5;241;43m.\u001b[39;49m\u001b[43mfunction\u001b[49m\u001b[43m(\u001b[49m\u001b[38;5;241;43m*\u001b[39;49m\u001b[38;5;28;43mself\u001b[39;49m\u001b[38;5;241;43m.\u001b[39;49m\u001b[43margs\u001b[49m\u001b[43m,\u001b[49m\u001b[43m \u001b[49m\u001b[38;5;241;43m*\u001b[39;49m\u001b[38;5;241;43m*\u001b[39;49m\u001b[38;5;28;43mself\u001b[39;49m\u001b[38;5;241;43m.\u001b[39;49m\u001b[43mkwargs\u001b[49m\u001b[43m)\u001b[49m\n\u001b[1;32m    429\u001b[0m \u001b[38;5;28;01melif\u001b[39;00m \u001b[38;5;28mself\u001b[39m\u001b[38;5;241m.\u001b[39msimulation\u001b[38;5;241m.\u001b[39mstatus \u001b[38;5;241m==\u001b[39m Simulation\u001b[38;5;241m.\u001b[39mSTATUS_STARTED:\n\u001b[1;32m    430\u001b[0m     \u001b[38;5;66;03m# Compute the event hash\u001b[39;00m\n\u001b[1;32m    431\u001b[0m     event_hash \u001b[38;5;241m=\u001b[39m \u001b[38;5;28mself\u001b[39m\u001b[38;5;241m.\u001b[39msimulation\u001b[38;5;241m.\u001b[39m_function_call_hash(\u001b[38;5;28mself\u001b[39m\u001b[38;5;241m.\u001b[39mfunction_name, \u001b[38;5;241m*\u001b[39m\u001b[38;5;28mself\u001b[39m\u001b[38;5;241m.\u001b[39margs, \u001b[38;5;241m*\u001b[39m\u001b[38;5;241m*\u001b[39m\u001b[38;5;28mself\u001b[39m\u001b[38;5;241m.\u001b[39mkwargs)\n",
      "File \u001b[0;32m~/agent_simulation/TinyTroupeOllama/examples/../tinytroupe/environment.py:86\u001b[0m, in \u001b[0;36mTinyWorld._step\u001b[0;34m(self, timedelta_per_step)\u001b[0m\n\u001b[1;32m     84\u001b[0m \u001b[38;5;28;01mfor\u001b[39;00m agent \u001b[38;5;129;01min\u001b[39;00m \u001b[38;5;28mself\u001b[39m\u001b[38;5;241m.\u001b[39magents:\n\u001b[1;32m     85\u001b[0m     logger\u001b[38;5;241m.\u001b[39mdebug(\u001b[38;5;124mf\u001b[39m\u001b[38;5;124m\"\u001b[39m\u001b[38;5;124m[\u001b[39m\u001b[38;5;132;01m{\u001b[39;00m\u001b[38;5;28mself\u001b[39m\u001b[38;5;241m.\u001b[39mname\u001b[38;5;132;01m}\u001b[39;00m\u001b[38;5;124m] Agent \u001b[39m\u001b[38;5;132;01m{\u001b[39;00mname_or_empty(agent)\u001b[38;5;132;01m}\u001b[39;00m\u001b[38;5;124m is acting.\u001b[39m\u001b[38;5;124m\"\u001b[39m)\n\u001b[0;32m---> 86\u001b[0m     actions \u001b[38;5;241m=\u001b[39m \u001b[43magent\u001b[49m\u001b[38;5;241;43m.\u001b[39;49m\u001b[43mact\u001b[49m\u001b[43m(\u001b[49m\u001b[43mreturn_actions\u001b[49m\u001b[38;5;241;43m=\u001b[39;49m\u001b[38;5;28;43;01mTrue\u001b[39;49;00m\u001b[43m)\u001b[49m\n\u001b[1;32m     87\u001b[0m     agents_actions[agent\u001b[38;5;241m.\u001b[39mname] \u001b[38;5;241m=\u001b[39m actions\n\u001b[1;32m     89\u001b[0m     \u001b[38;5;28mself\u001b[39m\u001b[38;5;241m.\u001b[39m_handle_actions(agent, agent\u001b[38;5;241m.\u001b[39mpop_latest_actions())\n",
      "File \u001b[0;32m~/agent_simulation/TinyTroupeOllama/examples/../tinytroupe/control.py:542\u001b[0m, in \u001b[0;36mtransactional.<locals>.wrapper\u001b[0;34m(*args, **kwargs)\u001b[0m\n\u001b[1;32m    539\u001b[0m logger\u001b[38;5;241m.\u001b[39mdebug(\u001b[38;5;124mf\u001b[39m\u001b[38;5;124m\"\u001b[39m\u001b[38;5;124m-----------------------------------------> Transaction: \u001b[39m\u001b[38;5;132;01m{\u001b[39;00mfunc\u001b[38;5;241m.\u001b[39m\u001b[38;5;18m__name__\u001b[39m\u001b[38;5;132;01m}\u001b[39;00m\u001b[38;5;124m with args \u001b[39m\u001b[38;5;132;01m{\u001b[39;00margs[\u001b[38;5;241m1\u001b[39m:]\u001b[38;5;132;01m}\u001b[39;00m\u001b[38;5;124m and kwargs \u001b[39m\u001b[38;5;132;01m{\u001b[39;00mkwargs\u001b[38;5;132;01m}\u001b[39;00m\u001b[38;5;124m under simulation \u001b[39m\u001b[38;5;132;01m{\u001b[39;00mobj_sim_id\u001b[38;5;132;01m}\u001b[39;00m\u001b[38;5;124m.\u001b[39m\u001b[38;5;124m\"\u001b[39m)\n\u001b[1;32m    541\u001b[0m transaction \u001b[38;5;241m=\u001b[39m Transaction(obj_under_transaction, simulation, func, \u001b[38;5;241m*\u001b[39margs, \u001b[38;5;241m*\u001b[39m\u001b[38;5;241m*\u001b[39mkwargs)\n\u001b[0;32m--> 542\u001b[0m result \u001b[38;5;241m=\u001b[39m \u001b[43mtransaction\u001b[49m\u001b[38;5;241;43m.\u001b[39;49m\u001b[43mexecute\u001b[49m\u001b[43m(\u001b[49m\u001b[43m)\u001b[49m\n\u001b[1;32m    543\u001b[0m \u001b[38;5;28;01mreturn\u001b[39;00m result\n",
      "File \u001b[0;32m~/agent_simulation/TinyTroupeOllama/examples/../tinytroupe/control.py:427\u001b[0m, in \u001b[0;36mTransaction.execute\u001b[0;34m(self)\u001b[0m\n\u001b[1;32m    424\u001b[0m \u001b[38;5;66;03m# Transaction caching will only operate if there is a simulation and it is started\u001b[39;00m\n\u001b[1;32m    425\u001b[0m \u001b[38;5;28;01mif\u001b[39;00m \u001b[38;5;28mself\u001b[39m\u001b[38;5;241m.\u001b[39msimulation \u001b[38;5;129;01mis\u001b[39;00m \u001b[38;5;28;01mNone\u001b[39;00m \u001b[38;5;129;01mor\u001b[39;00m \u001b[38;5;28mself\u001b[39m\u001b[38;5;241m.\u001b[39msimulation\u001b[38;5;241m.\u001b[39mstatus \u001b[38;5;241m==\u001b[39m Simulation\u001b[38;5;241m.\u001b[39mSTATUS_STOPPED:\n\u001b[1;32m    426\u001b[0m     \u001b[38;5;66;03m# Compute the function and return it, no caching, since the simulation is not started\u001b[39;00m\n\u001b[0;32m--> 427\u001b[0m     output \u001b[38;5;241m=\u001b[39m \u001b[38;5;28;43mself\u001b[39;49m\u001b[38;5;241;43m.\u001b[39;49m\u001b[43mfunction\u001b[49m\u001b[43m(\u001b[49m\u001b[38;5;241;43m*\u001b[39;49m\u001b[38;5;28;43mself\u001b[39;49m\u001b[38;5;241;43m.\u001b[39;49m\u001b[43margs\u001b[49m\u001b[43m,\u001b[49m\u001b[43m \u001b[49m\u001b[38;5;241;43m*\u001b[39;49m\u001b[38;5;241;43m*\u001b[39;49m\u001b[38;5;28;43mself\u001b[39;49m\u001b[38;5;241;43m.\u001b[39;49m\u001b[43mkwargs\u001b[49m\u001b[43m)\u001b[49m\n\u001b[1;32m    429\u001b[0m \u001b[38;5;28;01melif\u001b[39;00m \u001b[38;5;28mself\u001b[39m\u001b[38;5;241m.\u001b[39msimulation\u001b[38;5;241m.\u001b[39mstatus \u001b[38;5;241m==\u001b[39m Simulation\u001b[38;5;241m.\u001b[39mSTATUS_STARTED:\n\u001b[1;32m    430\u001b[0m     \u001b[38;5;66;03m# Compute the event hash\u001b[39;00m\n\u001b[1;32m    431\u001b[0m     event_hash \u001b[38;5;241m=\u001b[39m \u001b[38;5;28mself\u001b[39m\u001b[38;5;241m.\u001b[39msimulation\u001b[38;5;241m.\u001b[39m_function_call_hash(\u001b[38;5;28mself\u001b[39m\u001b[38;5;241m.\u001b[39mfunction_name, \u001b[38;5;241m*\u001b[39m\u001b[38;5;28mself\u001b[39m\u001b[38;5;241m.\u001b[39margs, \u001b[38;5;241m*\u001b[39m\u001b[38;5;241m*\u001b[39m\u001b[38;5;28mself\u001b[39m\u001b[38;5;241m.\u001b[39mkwargs)\n",
      "File \u001b[0;32m~/agent_simulation/TinyTroupeOllama/examples/../tinytroupe/agent.py:528\u001b[0m, in \u001b[0;36mTinyPerson.act\u001b[0;34m(self, until_done, n, return_actions, max_content_length)\u001b[0m\n\u001b[1;32m    525\u001b[0m                 logger\u001b[38;5;241m.\u001b[39mwarning(\u001b[38;5;124mf\u001b[39m\u001b[38;5;124m\"\u001b[39m\u001b[38;5;124m[\u001b[39m\u001b[38;5;132;01m{\u001b[39;00m\u001b[38;5;28mself\u001b[39m\u001b[38;5;241m.\u001b[39mname\u001b[38;5;132;01m}\u001b[39;00m\u001b[38;5;124m] Agent \u001b[39m\u001b[38;5;132;01m{\u001b[39;00m\u001b[38;5;28mself\u001b[39m\u001b[38;5;241m.\u001b[39mname\u001b[38;5;132;01m}\u001b[39;00m\u001b[38;5;124m is acting in a loop. This may be a bug. Let\u001b[39m\u001b[38;5;124m'\u001b[39m\u001b[38;5;124ms stop it here anyway.\u001b[39m\u001b[38;5;124m\"\u001b[39m)\n\u001b[1;32m    526\u001b[0m                 \u001b[38;5;28;01mbreak\u001b[39;00m\n\u001b[0;32m--> 528\u001b[0m         \u001b[43maux_act_once\u001b[49m\u001b[43m(\u001b[49m\u001b[43m)\u001b[49m\n\u001b[1;32m    530\u001b[0m \u001b[38;5;28;01mif\u001b[39;00m return_actions:\n\u001b[1;32m    531\u001b[0m     \u001b[38;5;28;01mreturn\u001b[39;00m contents\n",
      "File \u001b[0;32m~/agent_simulation/TinyTroupeOllama/examples/../tinytroupe/utils.py:162\u001b[0m, in \u001b[0;36mrepeat_on_error.<locals>.decorator.<locals>.wrapper\u001b[0;34m(*args, **kwargs)\u001b[0m\n\u001b[1;32m    160\u001b[0m \u001b[38;5;28;01mfor\u001b[39;00m i \u001b[38;5;129;01min\u001b[39;00m \u001b[38;5;28mrange\u001b[39m(retries):\n\u001b[1;32m    161\u001b[0m     \u001b[38;5;28;01mtry\u001b[39;00m:\n\u001b[0;32m--> 162\u001b[0m         \u001b[38;5;28;01mreturn\u001b[39;00m \u001b[43mfunc\u001b[49m\u001b[43m(\u001b[49m\u001b[38;5;241;43m*\u001b[39;49m\u001b[43margs\u001b[49m\u001b[43m,\u001b[49m\u001b[43m \u001b[49m\u001b[38;5;241;43m*\u001b[39;49m\u001b[38;5;241;43m*\u001b[39;49m\u001b[43mkwargs\u001b[49m\u001b[43m)\u001b[49m\n\u001b[1;32m    163\u001b[0m     \u001b[38;5;28;01mexcept\u001b[39;00m \u001b[38;5;28mtuple\u001b[39m(exceptions) \u001b[38;5;28;01mas\u001b[39;00m e:\n\u001b[1;32m    164\u001b[0m         logger\u001b[38;5;241m.\u001b[39mdebug(\u001b[38;5;124mf\u001b[39m\u001b[38;5;124m\"\u001b[39m\u001b[38;5;124mException occurred: \u001b[39m\u001b[38;5;132;01m{\u001b[39;00me\u001b[38;5;132;01m}\u001b[39;00m\u001b[38;5;124m\"\u001b[39m)\n",
      "File \u001b[0;32m~/agent_simulation/TinyTroupeOllama/examples/../tinytroupe/agent.py:432\u001b[0m, in \u001b[0;36mTinyPerson.act.<locals>.aux_act_once\u001b[0;34m()\u001b[0m\n\u001b[1;32m    429\u001b[0m \u001b[38;5;28mself\u001b[39m\u001b[38;5;241m.\u001b[39mthink(\u001b[38;5;124m\"\u001b[39m\u001b[38;5;124mI will now act a bit, and then issue DONE.\u001b[39m\u001b[38;5;124m\"\u001b[39m)\n\u001b[1;32m    431\u001b[0m \u001b[38;5;66;03m# Get the response from model\u001b[39;00m\n\u001b[0;32m--> 432\u001b[0m role, content \u001b[38;5;241m=\u001b[39m \u001b[38;5;28;43mself\u001b[39;49m\u001b[38;5;241;43m.\u001b[39;49m\u001b[43m_produce_message\u001b[49m\u001b[43m(\u001b[49m\u001b[43m)\u001b[49m\n\u001b[1;32m    434\u001b[0m \u001b[38;5;66;03m# Handle string content or ensure proper structure\u001b[39;00m\n\u001b[1;32m    435\u001b[0m \u001b[38;5;28;01mif\u001b[39;00m \u001b[38;5;28misinstance\u001b[39m(content, \u001b[38;5;28mstr\u001b[39m):\n",
      "File \u001b[0;32m~/agent_simulation/TinyTroupeOllama/examples/../tinytroupe/control.py:542\u001b[0m, in \u001b[0;36mtransactional.<locals>.wrapper\u001b[0;34m(*args, **kwargs)\u001b[0m\n\u001b[1;32m    539\u001b[0m logger\u001b[38;5;241m.\u001b[39mdebug(\u001b[38;5;124mf\u001b[39m\u001b[38;5;124m\"\u001b[39m\u001b[38;5;124m-----------------------------------------> Transaction: \u001b[39m\u001b[38;5;132;01m{\u001b[39;00mfunc\u001b[38;5;241m.\u001b[39m\u001b[38;5;18m__name__\u001b[39m\u001b[38;5;132;01m}\u001b[39;00m\u001b[38;5;124m with args \u001b[39m\u001b[38;5;132;01m{\u001b[39;00margs[\u001b[38;5;241m1\u001b[39m:]\u001b[38;5;132;01m}\u001b[39;00m\u001b[38;5;124m and kwargs \u001b[39m\u001b[38;5;132;01m{\u001b[39;00mkwargs\u001b[38;5;132;01m}\u001b[39;00m\u001b[38;5;124m under simulation \u001b[39m\u001b[38;5;132;01m{\u001b[39;00mobj_sim_id\u001b[38;5;132;01m}\u001b[39;00m\u001b[38;5;124m.\u001b[39m\u001b[38;5;124m\"\u001b[39m)\n\u001b[1;32m    541\u001b[0m transaction \u001b[38;5;241m=\u001b[39m Transaction(obj_under_transaction, simulation, func, \u001b[38;5;241m*\u001b[39margs, \u001b[38;5;241m*\u001b[39m\u001b[38;5;241m*\u001b[39mkwargs)\n\u001b[0;32m--> 542\u001b[0m result \u001b[38;5;241m=\u001b[39m \u001b[43mtransaction\u001b[49m\u001b[38;5;241;43m.\u001b[39;49m\u001b[43mexecute\u001b[49m\u001b[43m(\u001b[49m\u001b[43m)\u001b[49m\n\u001b[1;32m    543\u001b[0m \u001b[38;5;28;01mreturn\u001b[39;00m result\n",
      "File \u001b[0;32m~/agent_simulation/TinyTroupeOllama/examples/../tinytroupe/control.py:427\u001b[0m, in \u001b[0;36mTransaction.execute\u001b[0;34m(self)\u001b[0m\n\u001b[1;32m    424\u001b[0m \u001b[38;5;66;03m# Transaction caching will only operate if there is a simulation and it is started\u001b[39;00m\n\u001b[1;32m    425\u001b[0m \u001b[38;5;28;01mif\u001b[39;00m \u001b[38;5;28mself\u001b[39m\u001b[38;5;241m.\u001b[39msimulation \u001b[38;5;129;01mis\u001b[39;00m \u001b[38;5;28;01mNone\u001b[39;00m \u001b[38;5;129;01mor\u001b[39;00m \u001b[38;5;28mself\u001b[39m\u001b[38;5;241m.\u001b[39msimulation\u001b[38;5;241m.\u001b[39mstatus \u001b[38;5;241m==\u001b[39m Simulation\u001b[38;5;241m.\u001b[39mSTATUS_STOPPED:\n\u001b[1;32m    426\u001b[0m     \u001b[38;5;66;03m# Compute the function and return it, no caching, since the simulation is not started\u001b[39;00m\n\u001b[0;32m--> 427\u001b[0m     output \u001b[38;5;241m=\u001b[39m \u001b[38;5;28;43mself\u001b[39;49m\u001b[38;5;241;43m.\u001b[39;49m\u001b[43mfunction\u001b[49m\u001b[43m(\u001b[49m\u001b[38;5;241;43m*\u001b[39;49m\u001b[38;5;28;43mself\u001b[39;49m\u001b[38;5;241;43m.\u001b[39;49m\u001b[43margs\u001b[49m\u001b[43m,\u001b[49m\u001b[43m \u001b[49m\u001b[38;5;241;43m*\u001b[39;49m\u001b[38;5;241;43m*\u001b[39;49m\u001b[38;5;28;43mself\u001b[39;49m\u001b[38;5;241;43m.\u001b[39;49m\u001b[43mkwargs\u001b[49m\u001b[43m)\u001b[49m\n\u001b[1;32m    429\u001b[0m \u001b[38;5;28;01melif\u001b[39;00m \u001b[38;5;28mself\u001b[39m\u001b[38;5;241m.\u001b[39msimulation\u001b[38;5;241m.\u001b[39mstatus \u001b[38;5;241m==\u001b[39m Simulation\u001b[38;5;241m.\u001b[39mSTATUS_STARTED:\n\u001b[1;32m    430\u001b[0m     \u001b[38;5;66;03m# Compute the event hash\u001b[39;00m\n\u001b[1;32m    431\u001b[0m     event_hash \u001b[38;5;241m=\u001b[39m \u001b[38;5;28mself\u001b[39m\u001b[38;5;241m.\u001b[39msimulation\u001b[38;5;241m.\u001b[39m_function_call_hash(\u001b[38;5;28mself\u001b[39m\u001b[38;5;241m.\u001b[39mfunction_name, \u001b[38;5;241m*\u001b[39m\u001b[38;5;28mself\u001b[39m\u001b[38;5;241m.\u001b[39margs, \u001b[38;5;241m*\u001b[39m\u001b[38;5;241m*\u001b[39m\u001b[38;5;28mself\u001b[39m\u001b[38;5;241m.\u001b[39mkwargs)\n",
      "File \u001b[0;32m~/agent_simulation/TinyTroupeOllama/examples/../tinytroupe/agent.py:810\u001b[0m, in \u001b[0;36mTinyPerson._produce_message\u001b[0;34m(self)\u001b[0m\n\u001b[1;32m    801\u001b[0m messages \u001b[38;5;241m=\u001b[39m [\n\u001b[1;32m    802\u001b[0m     {\u001b[38;5;124m\"\u001b[39m\u001b[38;5;124mrole\u001b[39m\u001b[38;5;124m\"\u001b[39m: msg[\u001b[38;5;124m\"\u001b[39m\u001b[38;5;124mrole\u001b[39m\u001b[38;5;124m\"\u001b[39m], \u001b[38;5;124m\"\u001b[39m\u001b[38;5;124mcontent\u001b[39m\u001b[38;5;124m\"\u001b[39m: json\u001b[38;5;241m.\u001b[39mdumps(msg[\u001b[38;5;124m\"\u001b[39m\u001b[38;5;124mcontent\u001b[39m\u001b[38;5;124m\"\u001b[39m])}\n\u001b[1;32m    803\u001b[0m     \u001b[38;5;28;01mfor\u001b[39;00m msg \u001b[38;5;129;01min\u001b[39;00m \u001b[38;5;28mself\u001b[39m\u001b[38;5;241m.\u001b[39mcurrent_messages\n\u001b[1;32m    804\u001b[0m ]\n\u001b[1;32m    806\u001b[0m \u001b[38;5;66;03m# logger.debug(f\"[{self.name}] Sending messages to OpenAI API\")\u001b[39;00m\n\u001b[1;32m    807\u001b[0m \u001b[38;5;66;03m# logger.debug(f\"[{self.name}] Last interaction: {messages[-1]}\")\u001b[39;00m\n\u001b[1;32m    808\u001b[0m \n\u001b[1;32m    809\u001b[0m \u001b[38;5;66;03m# Send message and get the full response\u001b[39;00m\n\u001b[0;32m--> 810\u001b[0m raw_response \u001b[38;5;241m=\u001b[39m \u001b[43mopenai_utils\u001b[49m\u001b[38;5;241;43m.\u001b[39;49m\u001b[43mclient\u001b[49m\u001b[43m(\u001b[49m\u001b[43m)\u001b[49m\u001b[38;5;241;43m.\u001b[39;49m\u001b[43msend_message\u001b[49m\u001b[43m(\u001b[49m\u001b[43mmessages\u001b[49m\u001b[43m)\u001b[49m\n\u001b[1;32m    811\u001b[0m \u001b[38;5;66;03m# logger.debug(f\"Raw response from model: {raw_response}\")\u001b[39;00m\n\u001b[1;32m    812\u001b[0m \u001b[38;5;66;03m# logging.error(f\"Raw response from model: {raw_response}\")\u001b[39;00m\n\u001b[1;32m    814\u001b[0m \u001b[38;5;28;01mtry\u001b[39;00m:\n\u001b[1;32m    815\u001b[0m     \u001b[38;5;66;03m# Extract the 'content' field from 'message' if present\u001b[39;00m\n",
      "File \u001b[0;32m~/agent_simulation/TinyTroupeOllama/examples/../tinytroupe/openai_utils.py:616\u001b[0m, in \u001b[0;36mOllamaClient.send_message\u001b[0;34m(self, messages, response_format, max_tokens, temperature, top_p)\u001b[0m\n\u001b[1;32m    613\u001b[0m logger\u001b[38;5;241m.\u001b[39mdebug(\u001b[38;5;124mf\u001b[39m\u001b[38;5;124m\"\u001b[39m\u001b[38;5;124mPayload: \u001b[39m\u001b[38;5;132;01m{\u001b[39;00mpayload\u001b[38;5;132;01m}\u001b[39;00m\u001b[38;5;124m\"\u001b[39m)\n\u001b[1;32m    615\u001b[0m \u001b[38;5;28;01mtry\u001b[39;00m:\n\u001b[0;32m--> 616\u001b[0m     response \u001b[38;5;241m=\u001b[39m \u001b[43mrequests\u001b[49m\u001b[38;5;241;43m.\u001b[39;49m\u001b[43mpost\u001b[49m\u001b[43m(\u001b[49m\n\u001b[1;32m    617\u001b[0m \u001b[43m        \u001b[49m\u001b[43murl\u001b[49m\u001b[43m,\u001b[49m\n\u001b[1;32m    618\u001b[0m \u001b[43m        \u001b[49m\u001b[43mjson\u001b[49m\u001b[38;5;241;43m=\u001b[39;49m\u001b[43mpayload\u001b[49m\u001b[43m,\u001b[49m\n\u001b[1;32m    619\u001b[0m \u001b[43m        \u001b[49m\u001b[43mtimeout\u001b[49m\u001b[38;5;241;43m=\u001b[39;49m\u001b[38;5;28;43mself\u001b[39;49m\u001b[38;5;241;43m.\u001b[39;49m\u001b[43mtimeout\u001b[49m\n\u001b[1;32m    620\u001b[0m \u001b[43m    \u001b[49m\u001b[43m)\u001b[49m\n\u001b[1;32m    621\u001b[0m     response\u001b[38;5;241m.\u001b[39mraise_for_status()\n\u001b[1;32m    623\u001b[0m     response_json \u001b[38;5;241m=\u001b[39m response\u001b[38;5;241m.\u001b[39mjson()\n",
      "File \u001b[0;32m~/anaconda3/envs/tinytroupe/lib/python3.10/site-packages/requests/api.py:115\u001b[0m, in \u001b[0;36mpost\u001b[0;34m(url, data, json, **kwargs)\u001b[0m\n\u001b[1;32m    103\u001b[0m \u001b[38;5;28;01mdef\u001b[39;00m\u001b[38;5;250m \u001b[39m\u001b[38;5;21mpost\u001b[39m(url, data\u001b[38;5;241m=\u001b[39m\u001b[38;5;28;01mNone\u001b[39;00m, json\u001b[38;5;241m=\u001b[39m\u001b[38;5;28;01mNone\u001b[39;00m, \u001b[38;5;241m*\u001b[39m\u001b[38;5;241m*\u001b[39mkwargs):\n\u001b[1;32m    104\u001b[0m \u001b[38;5;250m    \u001b[39m\u001b[38;5;124mr\u001b[39m\u001b[38;5;124;03m\"\"\"Sends a POST request.\u001b[39;00m\n\u001b[1;32m    105\u001b[0m \n\u001b[1;32m    106\u001b[0m \u001b[38;5;124;03m    :param url: URL for the new :class:`Request` object.\u001b[39;00m\n\u001b[0;32m   (...)\u001b[0m\n\u001b[1;32m    112\u001b[0m \u001b[38;5;124;03m    :rtype: requests.Response\u001b[39;00m\n\u001b[1;32m    113\u001b[0m \u001b[38;5;124;03m    \"\"\"\u001b[39;00m\n\u001b[0;32m--> 115\u001b[0m     \u001b[38;5;28;01mreturn\u001b[39;00m \u001b[43mrequest\u001b[49m\u001b[43m(\u001b[49m\u001b[38;5;124;43m\"\u001b[39;49m\u001b[38;5;124;43mpost\u001b[39;49m\u001b[38;5;124;43m\"\u001b[39;49m\u001b[43m,\u001b[49m\u001b[43m \u001b[49m\u001b[43murl\u001b[49m\u001b[43m,\u001b[49m\u001b[43m \u001b[49m\u001b[43mdata\u001b[49m\u001b[38;5;241;43m=\u001b[39;49m\u001b[43mdata\u001b[49m\u001b[43m,\u001b[49m\u001b[43m \u001b[49m\u001b[43mjson\u001b[49m\u001b[38;5;241;43m=\u001b[39;49m\u001b[43mjson\u001b[49m\u001b[43m,\u001b[49m\u001b[43m \u001b[49m\u001b[38;5;241;43m*\u001b[39;49m\u001b[38;5;241;43m*\u001b[39;49m\u001b[43mkwargs\u001b[49m\u001b[43m)\u001b[49m\n",
      "File \u001b[0;32m~/anaconda3/envs/tinytroupe/lib/python3.10/site-packages/requests/api.py:59\u001b[0m, in \u001b[0;36mrequest\u001b[0;34m(method, url, **kwargs)\u001b[0m\n\u001b[1;32m     55\u001b[0m \u001b[38;5;66;03m# By using the 'with' statement we are sure the session is closed, thus we\u001b[39;00m\n\u001b[1;32m     56\u001b[0m \u001b[38;5;66;03m# avoid leaving sockets open which can trigger a ResourceWarning in some\u001b[39;00m\n\u001b[1;32m     57\u001b[0m \u001b[38;5;66;03m# cases, and look like a memory leak in others.\u001b[39;00m\n\u001b[1;32m     58\u001b[0m \u001b[38;5;28;01mwith\u001b[39;00m sessions\u001b[38;5;241m.\u001b[39mSession() \u001b[38;5;28;01mas\u001b[39;00m session:\n\u001b[0;32m---> 59\u001b[0m     \u001b[38;5;28;01mreturn\u001b[39;00m \u001b[43msession\u001b[49m\u001b[38;5;241;43m.\u001b[39;49m\u001b[43mrequest\u001b[49m\u001b[43m(\u001b[49m\u001b[43mmethod\u001b[49m\u001b[38;5;241;43m=\u001b[39;49m\u001b[43mmethod\u001b[49m\u001b[43m,\u001b[49m\u001b[43m \u001b[49m\u001b[43murl\u001b[49m\u001b[38;5;241;43m=\u001b[39;49m\u001b[43murl\u001b[49m\u001b[43m,\u001b[49m\u001b[43m \u001b[49m\u001b[38;5;241;43m*\u001b[39;49m\u001b[38;5;241;43m*\u001b[39;49m\u001b[43mkwargs\u001b[49m\u001b[43m)\u001b[49m\n",
      "File \u001b[0;32m~/anaconda3/envs/tinytroupe/lib/python3.10/site-packages/requests/sessions.py:589\u001b[0m, in \u001b[0;36mSession.request\u001b[0;34m(self, method, url, params, data, headers, cookies, files, auth, timeout, allow_redirects, proxies, hooks, stream, verify, cert, json)\u001b[0m\n\u001b[1;32m    584\u001b[0m send_kwargs \u001b[38;5;241m=\u001b[39m {\n\u001b[1;32m    585\u001b[0m     \u001b[38;5;124m\"\u001b[39m\u001b[38;5;124mtimeout\u001b[39m\u001b[38;5;124m\"\u001b[39m: timeout,\n\u001b[1;32m    586\u001b[0m     \u001b[38;5;124m\"\u001b[39m\u001b[38;5;124mallow_redirects\u001b[39m\u001b[38;5;124m\"\u001b[39m: allow_redirects,\n\u001b[1;32m    587\u001b[0m }\n\u001b[1;32m    588\u001b[0m send_kwargs\u001b[38;5;241m.\u001b[39mupdate(settings)\n\u001b[0;32m--> 589\u001b[0m resp \u001b[38;5;241m=\u001b[39m \u001b[38;5;28;43mself\u001b[39;49m\u001b[38;5;241;43m.\u001b[39;49m\u001b[43msend\u001b[49m\u001b[43m(\u001b[49m\u001b[43mprep\u001b[49m\u001b[43m,\u001b[49m\u001b[43m \u001b[49m\u001b[38;5;241;43m*\u001b[39;49m\u001b[38;5;241;43m*\u001b[39;49m\u001b[43msend_kwargs\u001b[49m\u001b[43m)\u001b[49m\n\u001b[1;32m    591\u001b[0m \u001b[38;5;28;01mreturn\u001b[39;00m resp\n",
      "File \u001b[0;32m~/anaconda3/envs/tinytroupe/lib/python3.10/site-packages/requests/sessions.py:703\u001b[0m, in \u001b[0;36mSession.send\u001b[0;34m(self, request, **kwargs)\u001b[0m\n\u001b[1;32m    700\u001b[0m start \u001b[38;5;241m=\u001b[39m preferred_clock()\n\u001b[1;32m    702\u001b[0m \u001b[38;5;66;03m# Send the request\u001b[39;00m\n\u001b[0;32m--> 703\u001b[0m r \u001b[38;5;241m=\u001b[39m \u001b[43madapter\u001b[49m\u001b[38;5;241;43m.\u001b[39;49m\u001b[43msend\u001b[49m\u001b[43m(\u001b[49m\u001b[43mrequest\u001b[49m\u001b[43m,\u001b[49m\u001b[43m \u001b[49m\u001b[38;5;241;43m*\u001b[39;49m\u001b[38;5;241;43m*\u001b[39;49m\u001b[43mkwargs\u001b[49m\u001b[43m)\u001b[49m\n\u001b[1;32m    705\u001b[0m \u001b[38;5;66;03m# Total elapsed time of the request (approximately)\u001b[39;00m\n\u001b[1;32m    706\u001b[0m elapsed \u001b[38;5;241m=\u001b[39m preferred_clock() \u001b[38;5;241m-\u001b[39m start\n",
      "File \u001b[0;32m~/anaconda3/envs/tinytroupe/lib/python3.10/site-packages/requests/adapters.py:667\u001b[0m, in \u001b[0;36mHTTPAdapter.send\u001b[0;34m(self, request, stream, timeout, verify, cert, proxies)\u001b[0m\n\u001b[1;32m    664\u001b[0m     timeout \u001b[38;5;241m=\u001b[39m TimeoutSauce(connect\u001b[38;5;241m=\u001b[39mtimeout, read\u001b[38;5;241m=\u001b[39mtimeout)\n\u001b[1;32m    666\u001b[0m \u001b[38;5;28;01mtry\u001b[39;00m:\n\u001b[0;32m--> 667\u001b[0m     resp \u001b[38;5;241m=\u001b[39m \u001b[43mconn\u001b[49m\u001b[38;5;241;43m.\u001b[39;49m\u001b[43murlopen\u001b[49m\u001b[43m(\u001b[49m\n\u001b[1;32m    668\u001b[0m \u001b[43m        \u001b[49m\u001b[43mmethod\u001b[49m\u001b[38;5;241;43m=\u001b[39;49m\u001b[43mrequest\u001b[49m\u001b[38;5;241;43m.\u001b[39;49m\u001b[43mmethod\u001b[49m\u001b[43m,\u001b[49m\n\u001b[1;32m    669\u001b[0m \u001b[43m        \u001b[49m\u001b[43murl\u001b[49m\u001b[38;5;241;43m=\u001b[39;49m\u001b[43murl\u001b[49m\u001b[43m,\u001b[49m\n\u001b[1;32m    670\u001b[0m \u001b[43m        \u001b[49m\u001b[43mbody\u001b[49m\u001b[38;5;241;43m=\u001b[39;49m\u001b[43mrequest\u001b[49m\u001b[38;5;241;43m.\u001b[39;49m\u001b[43mbody\u001b[49m\u001b[43m,\u001b[49m\n\u001b[1;32m    671\u001b[0m \u001b[43m        \u001b[49m\u001b[43mheaders\u001b[49m\u001b[38;5;241;43m=\u001b[39;49m\u001b[43mrequest\u001b[49m\u001b[38;5;241;43m.\u001b[39;49m\u001b[43mheaders\u001b[49m\u001b[43m,\u001b[49m\n\u001b[1;32m    672\u001b[0m \u001b[43m        \u001b[49m\u001b[43mredirect\u001b[49m\u001b[38;5;241;43m=\u001b[39;49m\u001b[38;5;28;43;01mFalse\u001b[39;49;00m\u001b[43m,\u001b[49m\n\u001b[1;32m    673\u001b[0m \u001b[43m        \u001b[49m\u001b[43massert_same_host\u001b[49m\u001b[38;5;241;43m=\u001b[39;49m\u001b[38;5;28;43;01mFalse\u001b[39;49;00m\u001b[43m,\u001b[49m\n\u001b[1;32m    674\u001b[0m \u001b[43m        \u001b[49m\u001b[43mpreload_content\u001b[49m\u001b[38;5;241;43m=\u001b[39;49m\u001b[38;5;28;43;01mFalse\u001b[39;49;00m\u001b[43m,\u001b[49m\n\u001b[1;32m    675\u001b[0m \u001b[43m        \u001b[49m\u001b[43mdecode_content\u001b[49m\u001b[38;5;241;43m=\u001b[39;49m\u001b[38;5;28;43;01mFalse\u001b[39;49;00m\u001b[43m,\u001b[49m\n\u001b[1;32m    676\u001b[0m \u001b[43m        \u001b[49m\u001b[43mretries\u001b[49m\u001b[38;5;241;43m=\u001b[39;49m\u001b[38;5;28;43mself\u001b[39;49m\u001b[38;5;241;43m.\u001b[39;49m\u001b[43mmax_retries\u001b[49m\u001b[43m,\u001b[49m\n\u001b[1;32m    677\u001b[0m \u001b[43m        \u001b[49m\u001b[43mtimeout\u001b[49m\u001b[38;5;241;43m=\u001b[39;49m\u001b[43mtimeout\u001b[49m\u001b[43m,\u001b[49m\n\u001b[1;32m    678\u001b[0m \u001b[43m        \u001b[49m\u001b[43mchunked\u001b[49m\u001b[38;5;241;43m=\u001b[39;49m\u001b[43mchunked\u001b[49m\u001b[43m,\u001b[49m\n\u001b[1;32m    679\u001b[0m \u001b[43m    \u001b[49m\u001b[43m)\u001b[49m\n\u001b[1;32m    681\u001b[0m \u001b[38;5;28;01mexcept\u001b[39;00m (ProtocolError, \u001b[38;5;167;01mOSError\u001b[39;00m) \u001b[38;5;28;01mas\u001b[39;00m err:\n\u001b[1;32m    682\u001b[0m     \u001b[38;5;28;01mraise\u001b[39;00m \u001b[38;5;167;01mConnectionError\u001b[39;00m(err, request\u001b[38;5;241m=\u001b[39mrequest)\n",
      "File \u001b[0;32m~/.local/lib/python3.10/site-packages/urllib3/connectionpool.py:789\u001b[0m, in \u001b[0;36mHTTPConnectionPool.urlopen\u001b[0;34m(self, method, url, body, headers, retries, redirect, assert_same_host, timeout, pool_timeout, release_conn, chunked, body_pos, preload_content, decode_content, **response_kw)\u001b[0m\n\u001b[1;32m    786\u001b[0m response_conn \u001b[38;5;241m=\u001b[39m conn \u001b[38;5;28;01mif\u001b[39;00m \u001b[38;5;129;01mnot\u001b[39;00m release_conn \u001b[38;5;28;01melse\u001b[39;00m \u001b[38;5;28;01mNone\u001b[39;00m\n\u001b[1;32m    788\u001b[0m \u001b[38;5;66;03m# Make the request on the HTTPConnection object\u001b[39;00m\n\u001b[0;32m--> 789\u001b[0m response \u001b[38;5;241m=\u001b[39m \u001b[38;5;28;43mself\u001b[39;49m\u001b[38;5;241;43m.\u001b[39;49m\u001b[43m_make_request\u001b[49m\u001b[43m(\u001b[49m\n\u001b[1;32m    790\u001b[0m \u001b[43m    \u001b[49m\u001b[43mconn\u001b[49m\u001b[43m,\u001b[49m\n\u001b[1;32m    791\u001b[0m \u001b[43m    \u001b[49m\u001b[43mmethod\u001b[49m\u001b[43m,\u001b[49m\n\u001b[1;32m    792\u001b[0m \u001b[43m    \u001b[49m\u001b[43murl\u001b[49m\u001b[43m,\u001b[49m\n\u001b[1;32m    793\u001b[0m \u001b[43m    \u001b[49m\u001b[43mtimeout\u001b[49m\u001b[38;5;241;43m=\u001b[39;49m\u001b[43mtimeout_obj\u001b[49m\u001b[43m,\u001b[49m\n\u001b[1;32m    794\u001b[0m \u001b[43m    \u001b[49m\u001b[43mbody\u001b[49m\u001b[38;5;241;43m=\u001b[39;49m\u001b[43mbody\u001b[49m\u001b[43m,\u001b[49m\n\u001b[1;32m    795\u001b[0m \u001b[43m    \u001b[49m\u001b[43mheaders\u001b[49m\u001b[38;5;241;43m=\u001b[39;49m\u001b[43mheaders\u001b[49m\u001b[43m,\u001b[49m\n\u001b[1;32m    796\u001b[0m \u001b[43m    \u001b[49m\u001b[43mchunked\u001b[49m\u001b[38;5;241;43m=\u001b[39;49m\u001b[43mchunked\u001b[49m\u001b[43m,\u001b[49m\n\u001b[1;32m    797\u001b[0m \u001b[43m    \u001b[49m\u001b[43mretries\u001b[49m\u001b[38;5;241;43m=\u001b[39;49m\u001b[43mretries\u001b[49m\u001b[43m,\u001b[49m\n\u001b[1;32m    798\u001b[0m \u001b[43m    \u001b[49m\u001b[43mresponse_conn\u001b[49m\u001b[38;5;241;43m=\u001b[39;49m\u001b[43mresponse_conn\u001b[49m\u001b[43m,\u001b[49m\n\u001b[1;32m    799\u001b[0m \u001b[43m    \u001b[49m\u001b[43mpreload_content\u001b[49m\u001b[38;5;241;43m=\u001b[39;49m\u001b[43mpreload_content\u001b[49m\u001b[43m,\u001b[49m\n\u001b[1;32m    800\u001b[0m \u001b[43m    \u001b[49m\u001b[43mdecode_content\u001b[49m\u001b[38;5;241;43m=\u001b[39;49m\u001b[43mdecode_content\u001b[49m\u001b[43m,\u001b[49m\n\u001b[1;32m    801\u001b[0m \u001b[43m    \u001b[49m\u001b[38;5;241;43m*\u001b[39;49m\u001b[38;5;241;43m*\u001b[39;49m\u001b[43mresponse_kw\u001b[49m\u001b[43m,\u001b[49m\n\u001b[1;32m    802\u001b[0m \u001b[43m\u001b[49m\u001b[43m)\u001b[49m\n\u001b[1;32m    804\u001b[0m \u001b[38;5;66;03m# Everything went great!\u001b[39;00m\n\u001b[1;32m    805\u001b[0m clean_exit \u001b[38;5;241m=\u001b[39m \u001b[38;5;28;01mTrue\u001b[39;00m\n",
      "File \u001b[0;32m~/.local/lib/python3.10/site-packages/urllib3/connectionpool.py:536\u001b[0m, in \u001b[0;36mHTTPConnectionPool._make_request\u001b[0;34m(self, conn, method, url, body, headers, retries, timeout, chunked, response_conn, preload_content, decode_content, enforce_content_length)\u001b[0m\n\u001b[1;32m    534\u001b[0m \u001b[38;5;66;03m# Receive the response from the server\u001b[39;00m\n\u001b[1;32m    535\u001b[0m \u001b[38;5;28;01mtry\u001b[39;00m:\n\u001b[0;32m--> 536\u001b[0m     response \u001b[38;5;241m=\u001b[39m \u001b[43mconn\u001b[49m\u001b[38;5;241;43m.\u001b[39;49m\u001b[43mgetresponse\u001b[49m\u001b[43m(\u001b[49m\u001b[43m)\u001b[49m\n\u001b[1;32m    537\u001b[0m \u001b[38;5;28;01mexcept\u001b[39;00m (BaseSSLError, \u001b[38;5;167;01mOSError\u001b[39;00m) \u001b[38;5;28;01mas\u001b[39;00m e:\n\u001b[1;32m    538\u001b[0m     \u001b[38;5;28mself\u001b[39m\u001b[38;5;241m.\u001b[39m_raise_timeout(err\u001b[38;5;241m=\u001b[39me, url\u001b[38;5;241m=\u001b[39murl, timeout_value\u001b[38;5;241m=\u001b[39mread_timeout)\n",
      "File \u001b[0;32m~/.local/lib/python3.10/site-packages/urllib3/connection.py:464\u001b[0m, in \u001b[0;36mHTTPConnection.getresponse\u001b[0;34m(self)\u001b[0m\n\u001b[1;32m    461\u001b[0m \u001b[38;5;28;01mfrom\u001b[39;00m\u001b[38;5;250m \u001b[39m\u001b[38;5;21;01m.\u001b[39;00m\u001b[38;5;21;01mresponse\u001b[39;00m\u001b[38;5;250m \u001b[39m\u001b[38;5;28;01mimport\u001b[39;00m HTTPResponse\n\u001b[1;32m    463\u001b[0m \u001b[38;5;66;03m# Get the response from http.client.HTTPConnection\u001b[39;00m\n\u001b[0;32m--> 464\u001b[0m httplib_response \u001b[38;5;241m=\u001b[39m \u001b[38;5;28;43msuper\u001b[39;49m\u001b[43m(\u001b[49m\u001b[43m)\u001b[49m\u001b[38;5;241;43m.\u001b[39;49m\u001b[43mgetresponse\u001b[49m\u001b[43m(\u001b[49m\u001b[43m)\u001b[49m\n\u001b[1;32m    466\u001b[0m \u001b[38;5;28;01mtry\u001b[39;00m:\n\u001b[1;32m    467\u001b[0m     assert_header_parsing(httplib_response\u001b[38;5;241m.\u001b[39mmsg)\n",
      "File \u001b[0;32m~/anaconda3/envs/tinytroupe/lib/python3.10/http/client.py:1375\u001b[0m, in \u001b[0;36mHTTPConnection.getresponse\u001b[0;34m(self)\u001b[0m\n\u001b[1;32m   1373\u001b[0m \u001b[38;5;28;01mtry\u001b[39;00m:\n\u001b[1;32m   1374\u001b[0m     \u001b[38;5;28;01mtry\u001b[39;00m:\n\u001b[0;32m-> 1375\u001b[0m         \u001b[43mresponse\u001b[49m\u001b[38;5;241;43m.\u001b[39;49m\u001b[43mbegin\u001b[49m\u001b[43m(\u001b[49m\u001b[43m)\u001b[49m\n\u001b[1;32m   1376\u001b[0m     \u001b[38;5;28;01mexcept\u001b[39;00m \u001b[38;5;167;01mConnectionError\u001b[39;00m:\n\u001b[1;32m   1377\u001b[0m         \u001b[38;5;28mself\u001b[39m\u001b[38;5;241m.\u001b[39mclose()\n",
      "File \u001b[0;32m~/anaconda3/envs/tinytroupe/lib/python3.10/http/client.py:318\u001b[0m, in \u001b[0;36mHTTPResponse.begin\u001b[0;34m(self)\u001b[0m\n\u001b[1;32m    316\u001b[0m \u001b[38;5;66;03m# read until we get a non-100 response\u001b[39;00m\n\u001b[1;32m    317\u001b[0m \u001b[38;5;28;01mwhile\u001b[39;00m \u001b[38;5;28;01mTrue\u001b[39;00m:\n\u001b[0;32m--> 318\u001b[0m     version, status, reason \u001b[38;5;241m=\u001b[39m \u001b[38;5;28;43mself\u001b[39;49m\u001b[38;5;241;43m.\u001b[39;49m\u001b[43m_read_status\u001b[49m\u001b[43m(\u001b[49m\u001b[43m)\u001b[49m\n\u001b[1;32m    319\u001b[0m     \u001b[38;5;28;01mif\u001b[39;00m status \u001b[38;5;241m!=\u001b[39m CONTINUE:\n\u001b[1;32m    320\u001b[0m         \u001b[38;5;28;01mbreak\u001b[39;00m\n",
      "File \u001b[0;32m~/anaconda3/envs/tinytroupe/lib/python3.10/http/client.py:279\u001b[0m, in \u001b[0;36mHTTPResponse._read_status\u001b[0;34m(self)\u001b[0m\n\u001b[1;32m    278\u001b[0m \u001b[38;5;28;01mdef\u001b[39;00m\u001b[38;5;250m \u001b[39m\u001b[38;5;21m_read_status\u001b[39m(\u001b[38;5;28mself\u001b[39m):\n\u001b[0;32m--> 279\u001b[0m     line \u001b[38;5;241m=\u001b[39m \u001b[38;5;28mstr\u001b[39m(\u001b[38;5;28;43mself\u001b[39;49m\u001b[38;5;241;43m.\u001b[39;49m\u001b[43mfp\u001b[49m\u001b[38;5;241;43m.\u001b[39;49m\u001b[43mreadline\u001b[49m\u001b[43m(\u001b[49m\u001b[43m_MAXLINE\u001b[49m\u001b[43m \u001b[49m\u001b[38;5;241;43m+\u001b[39;49m\u001b[43m \u001b[49m\u001b[38;5;241;43m1\u001b[39;49m\u001b[43m)\u001b[49m, \u001b[38;5;124m\"\u001b[39m\u001b[38;5;124miso-8859-1\u001b[39m\u001b[38;5;124m\"\u001b[39m)\n\u001b[1;32m    280\u001b[0m     \u001b[38;5;28;01mif\u001b[39;00m \u001b[38;5;28mlen\u001b[39m(line) \u001b[38;5;241m>\u001b[39m _MAXLINE:\n\u001b[1;32m    281\u001b[0m         \u001b[38;5;28;01mraise\u001b[39;00m LineTooLong(\u001b[38;5;124m\"\u001b[39m\u001b[38;5;124mstatus line\u001b[39m\u001b[38;5;124m\"\u001b[39m)\n",
      "File \u001b[0;32m~/anaconda3/envs/tinytroupe/lib/python3.10/socket.py:717\u001b[0m, in \u001b[0;36mSocketIO.readinto\u001b[0;34m(self, b)\u001b[0m\n\u001b[1;32m    715\u001b[0m \u001b[38;5;28;01mwhile\u001b[39;00m \u001b[38;5;28;01mTrue\u001b[39;00m:\n\u001b[1;32m    716\u001b[0m     \u001b[38;5;28;01mtry\u001b[39;00m:\n\u001b[0;32m--> 717\u001b[0m         \u001b[38;5;28;01mreturn\u001b[39;00m \u001b[38;5;28;43mself\u001b[39;49m\u001b[38;5;241;43m.\u001b[39;49m\u001b[43m_sock\u001b[49m\u001b[38;5;241;43m.\u001b[39;49m\u001b[43mrecv_into\u001b[49m\u001b[43m(\u001b[49m\u001b[43mb\u001b[49m\u001b[43m)\u001b[49m\n\u001b[1;32m    718\u001b[0m     \u001b[38;5;28;01mexcept\u001b[39;00m timeout:\n\u001b[1;32m    719\u001b[0m         \u001b[38;5;28mself\u001b[39m\u001b[38;5;241m.\u001b[39m_timeout_occurred \u001b[38;5;241m=\u001b[39m \u001b[38;5;28;01mTrue\u001b[39;00m\n",
      "\u001b[0;31mKeyboardInterrupt\u001b[0m: "
     ]
    }
   ],
   "source": [
    "company.run(2)"
   ]
  },
  {
   "cell_type": "code",
   "execution_count": null,
   "metadata": {},
   "outputs": [],
   "source": []
  },
  {
   "cell_type": "markdown",
   "metadata": {},
   "source": [
    "We can now extract the conversations, which form the synthetic corpus we wanted."
   ]
  },
  {
   "cell_type": "code",
   "execution_count": 8,
   "metadata": {},
   "outputs": [
    {
     "data": {
      "text/html": [
       "<pre style=\"margin:0px;;white-space:pre;overflow-x:auto;line-height:normal;font-family:Menlo,'DejaVu Sans Mono',consolas,'Courier New',monospace\">&gt;&gt;&gt;&gt;&gt;&gt;&gt;&gt;&gt; Date and time of events: <span style=\"color: #008080; text-decoration-color: #008080; font-weight: bold\">2024</span>-<span style=\"color: #008080; text-decoration-color: #008080; font-weight: bold\">11</span>-04T<span style=\"color: #00ff00; text-decoration-color: #00ff00; font-weight: bold\">22:50:44</span>.<span style=\"color: #008080; text-decoration-color: #008080; font-weight: bold\">514465</span>\n",
       "<span style=\"color: #00ffff; text-decoration-color: #00ffff; font-weight: bold; font-style: italic; text-decoration: underline\">USER</span><span style=\"color: #00ffff; text-decoration-color: #00ffff; font-weight: bold; font-style: italic\"> --&gt; </span><span style=\"color: #00ffff; text-decoration-color: #00ffff; font-weight: bold; font-style: italic; text-decoration: underline\">Samantha</span><span style=\"color: #00ffff; text-decoration-color: #00ffff; font-weight: bold; font-style: italic\">: [CONVERSATION] </span>\n",
       "<span style=\"color: #00ffff; text-decoration-color: #00ffff; font-weight: bold; font-style: italic\">          &gt; Message each other to get work done.</span>\n",
       "<span style=\"color: #00ffff; text-decoration-color: #00ffff; font-weight: bold; font-style: italic\">&gt;&gt;&gt;&gt;&gt;&gt;&gt;&gt;&gt; Date and time of events: 2024-11-04T22:50:44.514465</span>\n",
       "<span style=\"color: #7fffff; text-decoration-color: #7fffff; font-weight: bold; font-style: italic; text-decoration: underline\">Samantha</span><span style=\"color: #7fffff; text-decoration-color: #7fffff; font-weight: bold; font-style: italic\"> --&gt; </span><span style=\"color: #7fffff; text-decoration-color: #7fffff; font-weight: bold; font-style: italic; text-decoration: underline\">Samantha</span><span style=\"color: #7fffff; text-decoration-color: #7fffff; font-weight: bold; font-style: italic\">: [THOUGHT] </span>\n",
       "<span style=\"color: #7fffff; text-decoration-color: #7fffff; font-weight: bold; font-style: italic\">              &gt; I will now act a bit, and then issue DONE.</span>\n",
       "<span style=\"color: #7fffff; text-decoration-color: #7fffff; font-weight: bold; font-style: italic\">&gt;&gt;&gt;&gt;&gt;&gt;&gt;&gt;&gt; Date and time of events: 2024-11-04T22:50:44.514465</span>\n",
       "<span style=\"color: #7fbf7f; text-decoration-color: #7fbf7f; font-weight: bold; font-style: italic; text-decoration: underline\">Samantha</span><span style=\"color: #7fbf7f; text-decoration-color: #7fbf7f; font-weight: bold; font-style: italic\"> acts: [THINK] </span>\n",
       "<span style=\"color: #7fbf7f; text-decoration-color: #7fbf7f; font-weight: bold; font-style: italic\">              &gt; I should consider how messaging can improve our workflow and collaboration.</span>\n",
       "<span style=\"color: #7fffff; text-decoration-color: #7fffff; font-weight: bold; font-style: italic\">&gt;&gt;&gt;&gt;&gt;&gt;&gt;&gt;&gt; Date and time of events: 2024-11-04T22:50:44.514465</span>\n",
       "<span style=\"color: #7fffff; text-decoration-color: #7fffff; font-weight: bold; font-style: italic; text-decoration: underline\">Samantha</span><span style=\"color: #7fffff; text-decoration-color: #7fffff; font-weight: bold; font-style: italic\"> --&gt; </span><span style=\"color: #7fffff; text-decoration-color: #7fffff; font-weight: bold; font-style: italic; text-decoration: underline\">Samantha</span><span style=\"color: #7fffff; text-decoration-color: #7fffff; font-weight: bold; font-style: italic\">: [THOUGHT] </span>\n",
       "<span style=\"color: #7fffff; text-decoration-color: #7fffff; font-weight: bold; font-style: italic\">              &gt; I will now act a bit, and then issue DONE.</span>\n",
       "<span style=\"color: #7fffff; text-decoration-color: #7fffff; font-weight: bold; font-style: italic\">&gt;&gt;&gt;&gt;&gt;&gt;&gt;&gt;&gt; Date and time of events: 2024-11-04T22:50:44.514465</span>\n",
       "<span style=\"color: #7feb7f; text-decoration-color: #7feb7f; font-weight: bold; font-style: italic; text-decoration: underline\">Samantha</span><span style=\"color: #7feb7f; text-decoration-color: #7feb7f; font-weight: bold; font-style: italic\"> acts: [TALK] </span>\n",
       "<span style=\"color: #7feb7f; text-decoration-color: #7feb7f; font-weight: bold; font-style: italic\">              &gt; Messaging can be a great tool for quick updates and clarifications. It's important</span>\n",
       "<span style=\"color: #7feb7f; text-decoration-color: #7feb7f; font-weight: bold; font-style: italic\">              &gt; to ensure everyone is on the same page and has access to the information they need.</span>\n",
       "<span style=\"color: #7fffff; text-decoration-color: #7fffff; font-weight: bold; font-style: italic\">&gt;&gt;&gt;&gt;&gt;&gt;&gt;&gt;&gt; Date and time of events: 2024-11-04T22:50:44.514465</span>\n",
       "<span style=\"color: #7fffff; text-decoration-color: #7fffff; font-weight: bold; font-style: italic; text-decoration: underline\">Samantha</span><span style=\"color: #7fffff; text-decoration-color: #7fffff; font-weight: bold; font-style: italic\"> --&gt; </span><span style=\"color: #7fffff; text-decoration-color: #7fffff; font-weight: bold; font-style: italic; text-decoration: underline\">Samantha</span><span style=\"color: #7fffff; text-decoration-color: #7fffff; font-weight: bold; font-style: italic\">: [THOUGHT] </span>\n",
       "<span style=\"color: #7fffff; text-decoration-color: #7fffff; font-weight: bold; font-style: italic\">              &gt; I will now act a bit, and then issue DONE.</span>\n",
       "<span style=\"color: #7fffff; text-decoration-color: #7fffff; font-weight: bold; font-style: italic\">&gt;&gt;&gt;&gt;&gt;&gt;&gt;&gt;&gt; Date and time of events: 2024-11-04T22:50:44.514465</span>\n",
       "<span style=\"color: #e7e7e7; text-decoration-color: #e7e7e7; font-weight: bold; font-style: italic; text-decoration: underline\">Samantha</span><span style=\"color: #e7e7e7; text-decoration-color: #e7e7e7; font-weight: bold; font-style: italic\"> acts: [DONE] </span>\n",
       "\n",
       "<span style=\"color: #7fffff; text-decoration-color: #7fffff; font-weight: bold; font-style: italic\">&gt;&gt;&gt;&gt;&gt;&gt;&gt;&gt;&gt; Date and time of events: 2024-11-04T22:50:44.514465</span>\n",
       "<span style=\"color: #7fffff; text-decoration-color: #7fffff; font-weight: bold; font-style: italic; text-decoration: underline\">Liam</span><span style=\"color: #7fffff; text-decoration-color: #7fffff; font-weight: bold; font-style: italic\"> --&gt; </span><span style=\"color: #7fffff; text-decoration-color: #7fffff; font-weight: bold; font-style: italic; text-decoration: underline\">Samantha</span><span style=\"color: #7fffff; text-decoration-color: #7fffff; font-weight: bold; font-style: italic\">: [CONVERSATION] </span>\n",
       "<span style=\"color: #7fffff; text-decoration-color: #7fffff; font-weight: bold; font-style: italic\">          &gt; Absolutely, Samantha. Messaging helps us stay connected and informed, which is crucial</span>\n",
       "<span style=\"color: #7fffff; text-decoration-color: #7fffff; font-weight: bold; font-style: italic\">          &gt; for our team's success.</span>\n",
       "<span style=\"color: #7fffff; text-decoration-color: #7fffff; font-weight: bold; font-style: italic\">&gt;&gt;&gt;&gt;&gt;&gt;&gt;&gt;&gt; Date and time of events: 2024-11-04T22:50:44.514465</span>\n",
       "<span style=\"color: #7fffff; text-decoration-color: #7fffff; font-weight: bold; font-style: italic; text-decoration: underline\">Samantha</span><span style=\"color: #7fffff; text-decoration-color: #7fffff; font-weight: bold; font-style: italic\"> --&gt; </span><span style=\"color: #7fffff; text-decoration-color: #7fffff; font-weight: bold; font-style: italic; text-decoration: underline\">Samantha</span><span style=\"color: #7fffff; text-decoration-color: #7fffff; font-weight: bold; font-style: italic\">: [THOUGHT] </span>\n",
       "<span style=\"color: #7fffff; text-decoration-color: #7fffff; font-weight: bold; font-style: italic\">              &gt; I will now act a bit, and then issue DONE.</span>\n",
       "<span style=\"color: #7fffff; text-decoration-color: #7fffff; font-weight: bold; font-style: italic\">&gt;&gt;&gt;&gt;&gt;&gt;&gt;&gt;&gt; Date and time of events: 2024-11-04T22:50:44.514465</span>\n",
       "<span style=\"color: #7fbf7f; text-decoration-color: #7fbf7f; font-weight: bold; font-style: italic; text-decoration: underline\">Samantha</span><span style=\"color: #7fbf7f; text-decoration-color: #7fbf7f; font-weight: bold; font-style: italic\"> acts: [THINK] </span>\n",
       "<span style=\"color: #7fbf7f; text-decoration-color: #7fbf7f; font-weight: bold; font-style: italic\">              &gt; Liam's point about staying connected and informed is essential for our team's</span>\n",
       "<span style=\"color: #7fbf7f; text-decoration-color: #7fbf7f; font-weight: bold; font-style: italic\">              &gt; success.</span>\n",
       "<span style=\"color: #7fffff; text-decoration-color: #7fffff; font-weight: bold; font-style: italic\">&gt;&gt;&gt;&gt;&gt;&gt;&gt;&gt;&gt; Date and time of events: 2024-11-04T22:50:44.514465</span>\n",
       "<span style=\"color: #7fffff; text-decoration-color: #7fffff; font-weight: bold; font-style: italic; text-decoration: underline\">Samantha</span><span style=\"color: #7fffff; text-decoration-color: #7fffff; font-weight: bold; font-style: italic\"> --&gt; </span><span style=\"color: #7fffff; text-decoration-color: #7fffff; font-weight: bold; font-style: italic; text-decoration: underline\">Samantha</span><span style=\"color: #7fffff; text-decoration-color: #7fffff; font-weight: bold; font-style: italic\">: [THOUGHT] </span>\n",
       "<span style=\"color: #7fffff; text-decoration-color: #7fffff; font-weight: bold; font-style: italic\">              &gt; I will now act a bit, and then issue DONE.</span>\n",
       "<span style=\"color: #7fffff; text-decoration-color: #7fffff; font-weight: bold; font-style: italic\">&gt;&gt;&gt;&gt;&gt;&gt;&gt;&gt;&gt; Date and time of events: 2024-11-04T22:50:44.514465</span>\n",
       "<span style=\"color: #7feb7f; text-decoration-color: #7feb7f; font-weight: bold; font-style: italic; text-decoration: underline\">Samantha</span><span style=\"color: #7feb7f; text-decoration-color: #7feb7f; font-weight: bold; font-style: italic\"> acts: [TALK] </span>\n",
       "<span style=\"color: #7feb7f; text-decoration-color: #7feb7f; font-weight: bold; font-style: italic\">              &gt; I completely agree, Liam. Consistent communication through messaging can really</span>\n",
       "<span style=\"color: #7feb7f; text-decoration-color: #7feb7f; font-weight: bold; font-style: italic\">              &gt; streamline our processes and ensure everyone is aligned.</span>\n",
       "<span style=\"color: #7fffff; text-decoration-color: #7fffff; font-weight: bold; font-style: italic\">&gt;&gt;&gt;&gt;&gt;&gt;&gt;&gt;&gt; Date and time of events: 2024-11-04T22:50:44.514465</span>\n",
       "<span style=\"color: #7fffff; text-decoration-color: #7fffff; font-weight: bold; font-style: italic; text-decoration: underline\">Samantha</span><span style=\"color: #7fffff; text-decoration-color: #7fffff; font-weight: bold; font-style: italic\"> --&gt; </span><span style=\"color: #7fffff; text-decoration-color: #7fffff; font-weight: bold; font-style: italic; text-decoration: underline\">Samantha</span><span style=\"color: #7fffff; text-decoration-color: #7fffff; font-weight: bold; font-style: italic\">: [THOUGHT] </span>\n",
       "<span style=\"color: #7fffff; text-decoration-color: #7fffff; font-weight: bold; font-style: italic\">              &gt; I will now act a bit, and then issue DONE.</span>\n",
       "<span style=\"color: #7fffff; text-decoration-color: #7fffff; font-weight: bold; font-style: italic\">&gt;&gt;&gt;&gt;&gt;&gt;&gt;&gt;&gt; Date and time of events: 2024-11-04T22:50:44.514465</span>\n",
       "<span style=\"color: #e7e7e7; text-decoration-color: #e7e7e7; font-weight: bold; font-style: italic; text-decoration: underline\">Samantha</span><span style=\"color: #e7e7e7; text-decoration-color: #e7e7e7; font-weight: bold; font-style: italic\"> acts: [DONE] </span>\n",
       "\n",
       "<span style=\"color: #7fffff; text-decoration-color: #7fffff; font-weight: bold; font-style: italic\">&gt;&gt;&gt;&gt;&gt;&gt;&gt;&gt;&gt; Date and time of events: 2024-11-04T22:50:44.514465</span>\n",
       "<span style=\"color: #7fffff; text-decoration-color: #7fffff; font-weight: bold; font-style: italic; text-decoration: underline\">Liam</span><span style=\"color: #7fffff; text-decoration-color: #7fffff; font-weight: bold; font-style: italic\"> --&gt; </span><span style=\"color: #7fffff; text-decoration-color: #7fffff; font-weight: bold; font-style: italic; text-decoration: underline\">Samantha</span><span style=\"color: #7fffff; text-decoration-color: #7fffff; font-weight: bold; font-style: italic\">: [CONVERSATION] </span>\n",
       "<span style=\"color: #7fffff; text-decoration-color: #7fffff; font-weight: bold; font-style: italic\">          &gt; I'm glad we're on the same page, Samantha. Let's continue to use messaging effectively</span>\n",
       "<span style=\"color: #7fffff; text-decoration-color: #7fffff; font-weight: bold; font-style: italic\">          &gt; to keep our team aligned and informed.</span>\n",
       "</pre>\n"
      ],
      "text/plain": [
       ">>>>>>>>> Date and time of events: \u001b[1;36m2024\u001b[0m-\u001b[1;36m11\u001b[0m-04T\u001b[1;92m22:50:44\u001b[0m.\u001b[1;36m514465\u001b[0m\n",
       "\u001b[1;3;4;38;5;51mUSER\u001b[0m\u001b[1;3;38;5;51m --> \u001b[0m\u001b[1;3;4;38;5;51mSamantha\u001b[0m\u001b[1;3;38;5;51m: \u001b[0m\u001b[1;3;38;5;51m[\u001b[0m\u001b[1;3;38;5;51mCONVERSATION\u001b[0m\u001b[1;3;38;5;51m]\u001b[0m\u001b[1;3;38;5;51m \u001b[0m\n",
       "\u001b[1;3;38;5;51m          > Message each other to get work done.\u001b[0m\n",
       "\u001b[1;3;38;5;51m>>>>>>>>> Date and time of events: \u001b[0m\u001b[1;3;38;5;51m2024\u001b[0m\u001b[1;3;38;5;51m-\u001b[0m\u001b[1;3;38;5;51m11\u001b[0m\u001b[1;3;38;5;51m-04T\u001b[0m\u001b[1;3;38;5;51m22:50:44\u001b[0m\u001b[1;3;38;5;51m.\u001b[0m\u001b[1;3;38;5;51m514465\u001b[0m\n",
       "\u001b[1;2;3;4;38;5;51mSamantha\u001b[0m\u001b[1;2;3;38;5;51m --> \u001b[0m\u001b[1;2;3;4;38;5;51mSamantha\u001b[0m\u001b[1;2;3;38;5;51m: \u001b[0m\u001b[1;2;3;38;5;51m[\u001b[0m\u001b[1;2;3;38;5;51mTHOUGHT\u001b[0m\u001b[1;2;3;38;5;51m]\u001b[0m\u001b[1;2;3;38;5;51m \u001b[0m\n",
       "\u001b[1;2;3;38;5;51m              > I will now act a bit, and then issue DONE.\u001b[0m\n",
       "\u001b[1;2;3;38;5;51m>>>>>>>>> Date and time of events: \u001b[0m\u001b[1;2;3;38;5;51m2024\u001b[0m\u001b[1;2;3;38;5;51m-\u001b[0m\u001b[1;2;3;38;5;51m11\u001b[0m\u001b[1;2;3;38;5;51m-04T\u001b[0m\u001b[1;2;3;38;5;51m22:50:44\u001b[0m\u001b[1;2;3;38;5;51m.\u001b[0m\u001b[1;2;3;38;5;51m514465\u001b[0m\n",
       "\u001b[1;2;3;4;32mSamantha\u001b[0m\u001b[1;2;3;32m acts: \u001b[0m\u001b[1;2;3;32m[\u001b[0m\u001b[1;2;3;32mTHINK\u001b[0m\u001b[1;2;3;32m]\u001b[0m\u001b[1;2;3;32m \u001b[0m\n",
       "\u001b[1;2;3;32m              > I should consider how messaging can improve our workflow and collaboration.\u001b[0m\n",
       "\u001b[1;2;3;38;5;51m>>>>>>>>> Date and time of events: \u001b[0m\u001b[1;2;3;38;5;51m2024\u001b[0m\u001b[1;2;3;38;5;51m-\u001b[0m\u001b[1;2;3;38;5;51m11\u001b[0m\u001b[1;2;3;38;5;51m-04T\u001b[0m\u001b[1;2;3;38;5;51m22:50:44\u001b[0m\u001b[1;2;3;38;5;51m.\u001b[0m\u001b[1;2;3;38;5;51m514465\u001b[0m\n",
       "\u001b[1;2;3;4;38;5;51mSamantha\u001b[0m\u001b[1;2;3;38;5;51m --> \u001b[0m\u001b[1;2;3;4;38;5;51mSamantha\u001b[0m\u001b[1;2;3;38;5;51m: \u001b[0m\u001b[1;2;3;38;5;51m[\u001b[0m\u001b[1;2;3;38;5;51mTHOUGHT\u001b[0m\u001b[1;2;3;38;5;51m]\u001b[0m\u001b[1;2;3;38;5;51m \u001b[0m\n",
       "\u001b[1;2;3;38;5;51m              > I will now act a bit, and then issue DONE.\u001b[0m\n",
       "\u001b[1;2;3;38;5;51m>>>>>>>>> Date and time of events: \u001b[0m\u001b[1;2;3;38;5;51m2024\u001b[0m\u001b[1;2;3;38;5;51m-\u001b[0m\u001b[1;2;3;38;5;51m11\u001b[0m\u001b[1;2;3;38;5;51m-04T\u001b[0m\u001b[1;2;3;38;5;51m22:50:44\u001b[0m\u001b[1;2;3;38;5;51m.\u001b[0m\u001b[1;2;3;38;5;51m514465\u001b[0m\n",
       "\u001b[1;2;3;4;38;5;40mSamantha\u001b[0m\u001b[1;2;3;38;5;40m acts: \u001b[0m\u001b[1;2;3;38;5;40m[\u001b[0m\u001b[1;2;3;38;5;40mTALK\u001b[0m\u001b[1;2;3;38;5;40m]\u001b[0m\u001b[1;2;3;38;5;40m \u001b[0m\n",
       "\u001b[1;2;3;38;5;40m              > Messaging can be a great tool for quick updates and clarifications. It's important\u001b[0m\n",
       "\u001b[1;2;3;38;5;40m              > to ensure everyone is on the same page and has access to the information they need.\u001b[0m\n",
       "\u001b[1;2;3;38;5;51m>>>>>>>>> Date and time of events: \u001b[0m\u001b[1;2;3;38;5;51m2024\u001b[0m\u001b[1;2;3;38;5;51m-\u001b[0m\u001b[1;2;3;38;5;51m11\u001b[0m\u001b[1;2;3;38;5;51m-04T\u001b[0m\u001b[1;2;3;38;5;51m22:50:44\u001b[0m\u001b[1;2;3;38;5;51m.\u001b[0m\u001b[1;2;3;38;5;51m514465\u001b[0m\n",
       "\u001b[1;2;3;4;38;5;51mSamantha\u001b[0m\u001b[1;2;3;38;5;51m --> \u001b[0m\u001b[1;2;3;4;38;5;51mSamantha\u001b[0m\u001b[1;2;3;38;5;51m: \u001b[0m\u001b[1;2;3;38;5;51m[\u001b[0m\u001b[1;2;3;38;5;51mTHOUGHT\u001b[0m\u001b[1;2;3;38;5;51m]\u001b[0m\u001b[1;2;3;38;5;51m \u001b[0m\n",
       "\u001b[1;2;3;38;5;51m              > I will now act a bit, and then issue DONE.\u001b[0m\n",
       "\u001b[1;2;3;38;5;51m>>>>>>>>> Date and time of events: \u001b[0m\u001b[1;2;3;38;5;51m2024\u001b[0m\u001b[1;2;3;38;5;51m-\u001b[0m\u001b[1;2;3;38;5;51m11\u001b[0m\u001b[1;2;3;38;5;51m-04T\u001b[0m\u001b[1;2;3;38;5;51m22:50:44\u001b[0m\u001b[1;2;3;38;5;51m.\u001b[0m\u001b[1;2;3;38;5;51m514465\u001b[0m\n",
       "\u001b[1;2;3;4;38;5;252mSamantha\u001b[0m\u001b[1;2;3;38;5;252m acts: \u001b[0m\u001b[1;2;3;38;5;252m[\u001b[0m\u001b[1;2;3;38;5;252mDONE\u001b[0m\u001b[1;2;3;38;5;252m]\u001b[0m\u001b[1;2;3;38;5;252m \u001b[0m\n",
       "\n",
       "\u001b[1;2;3;38;5;51m>>>>>>>>> Date and time of events: \u001b[0m\u001b[1;2;3;38;5;51m2024\u001b[0m\u001b[1;2;3;38;5;51m-\u001b[0m\u001b[1;2;3;38;5;51m11\u001b[0m\u001b[1;2;3;38;5;51m-04T\u001b[0m\u001b[1;2;3;38;5;51m22:50:44\u001b[0m\u001b[1;2;3;38;5;51m.\u001b[0m\u001b[1;2;3;38;5;51m514465\u001b[0m\n",
       "\u001b[1;2;3;4;38;5;51mLiam\u001b[0m\u001b[1;2;3;38;5;51m --> \u001b[0m\u001b[1;2;3;4;38;5;51mSamantha\u001b[0m\u001b[1;2;3;38;5;51m: \u001b[0m\u001b[1;2;3;38;5;51m[\u001b[0m\u001b[1;2;3;38;5;51mCONVERSATION\u001b[0m\u001b[1;2;3;38;5;51m]\u001b[0m\u001b[1;2;3;38;5;51m \u001b[0m\n",
       "\u001b[1;2;3;38;5;51m          > Absolutely, Samantha. Messaging helps us stay connected and informed, which is crucial\u001b[0m\n",
       "\u001b[1;2;3;38;5;51m          > for our team's success.\u001b[0m\n",
       "\u001b[1;2;3;38;5;51m>>>>>>>>> Date and time of events: \u001b[0m\u001b[1;2;3;38;5;51m2024\u001b[0m\u001b[1;2;3;38;5;51m-\u001b[0m\u001b[1;2;3;38;5;51m11\u001b[0m\u001b[1;2;3;38;5;51m-04T\u001b[0m\u001b[1;2;3;38;5;51m22:50:44\u001b[0m\u001b[1;2;3;38;5;51m.\u001b[0m\u001b[1;2;3;38;5;51m514465\u001b[0m\n",
       "\u001b[1;2;3;4;38;5;51mSamantha\u001b[0m\u001b[1;2;3;38;5;51m --> \u001b[0m\u001b[1;2;3;4;38;5;51mSamantha\u001b[0m\u001b[1;2;3;38;5;51m: \u001b[0m\u001b[1;2;3;38;5;51m[\u001b[0m\u001b[1;2;3;38;5;51mTHOUGHT\u001b[0m\u001b[1;2;3;38;5;51m]\u001b[0m\u001b[1;2;3;38;5;51m \u001b[0m\n",
       "\u001b[1;2;3;38;5;51m              > I will now act a bit, and then issue DONE.\u001b[0m\n",
       "\u001b[1;2;3;38;5;51m>>>>>>>>> Date and time of events: \u001b[0m\u001b[1;2;3;38;5;51m2024\u001b[0m\u001b[1;2;3;38;5;51m-\u001b[0m\u001b[1;2;3;38;5;51m11\u001b[0m\u001b[1;2;3;38;5;51m-04T\u001b[0m\u001b[1;2;3;38;5;51m22:50:44\u001b[0m\u001b[1;2;3;38;5;51m.\u001b[0m\u001b[1;2;3;38;5;51m514465\u001b[0m\n",
       "\u001b[1;2;3;4;32mSamantha\u001b[0m\u001b[1;2;3;32m acts: \u001b[0m\u001b[1;2;3;32m[\u001b[0m\u001b[1;2;3;32mTHINK\u001b[0m\u001b[1;2;3;32m]\u001b[0m\u001b[1;2;3;32m \u001b[0m\n",
       "\u001b[1;2;3;32m              > Liam's point about staying connected and informed is essential for our team's\u001b[0m\n",
       "\u001b[1;2;3;32m              > success.\u001b[0m\n",
       "\u001b[1;2;3;38;5;51m>>>>>>>>> Date and time of events: \u001b[0m\u001b[1;2;3;38;5;51m2024\u001b[0m\u001b[1;2;3;38;5;51m-\u001b[0m\u001b[1;2;3;38;5;51m11\u001b[0m\u001b[1;2;3;38;5;51m-04T\u001b[0m\u001b[1;2;3;38;5;51m22:50:44\u001b[0m\u001b[1;2;3;38;5;51m.\u001b[0m\u001b[1;2;3;38;5;51m514465\u001b[0m\n",
       "\u001b[1;2;3;4;38;5;51mSamantha\u001b[0m\u001b[1;2;3;38;5;51m --> \u001b[0m\u001b[1;2;3;4;38;5;51mSamantha\u001b[0m\u001b[1;2;3;38;5;51m: \u001b[0m\u001b[1;2;3;38;5;51m[\u001b[0m\u001b[1;2;3;38;5;51mTHOUGHT\u001b[0m\u001b[1;2;3;38;5;51m]\u001b[0m\u001b[1;2;3;38;5;51m \u001b[0m\n",
       "\u001b[1;2;3;38;5;51m              > I will now act a bit, and then issue DONE.\u001b[0m\n",
       "\u001b[1;2;3;38;5;51m>>>>>>>>> Date and time of events: \u001b[0m\u001b[1;2;3;38;5;51m2024\u001b[0m\u001b[1;2;3;38;5;51m-\u001b[0m\u001b[1;2;3;38;5;51m11\u001b[0m\u001b[1;2;3;38;5;51m-04T\u001b[0m\u001b[1;2;3;38;5;51m22:50:44\u001b[0m\u001b[1;2;3;38;5;51m.\u001b[0m\u001b[1;2;3;38;5;51m514465\u001b[0m\n",
       "\u001b[1;2;3;4;38;5;40mSamantha\u001b[0m\u001b[1;2;3;38;5;40m acts: \u001b[0m\u001b[1;2;3;38;5;40m[\u001b[0m\u001b[1;2;3;38;5;40mTALK\u001b[0m\u001b[1;2;3;38;5;40m]\u001b[0m\u001b[1;2;3;38;5;40m \u001b[0m\n",
       "\u001b[1;2;3;38;5;40m              > I completely agree, Liam. Consistent communication through messaging can really\u001b[0m\n",
       "\u001b[1;2;3;38;5;40m              > streamline our processes and ensure everyone is aligned.\u001b[0m\n",
       "\u001b[1;2;3;38;5;51m>>>>>>>>> Date and time of events: \u001b[0m\u001b[1;2;3;38;5;51m2024\u001b[0m\u001b[1;2;3;38;5;51m-\u001b[0m\u001b[1;2;3;38;5;51m11\u001b[0m\u001b[1;2;3;38;5;51m-04T\u001b[0m\u001b[1;2;3;38;5;51m22:50:44\u001b[0m\u001b[1;2;3;38;5;51m.\u001b[0m\u001b[1;2;3;38;5;51m514465\u001b[0m\n",
       "\u001b[1;2;3;4;38;5;51mSamantha\u001b[0m\u001b[1;2;3;38;5;51m --> \u001b[0m\u001b[1;2;3;4;38;5;51mSamantha\u001b[0m\u001b[1;2;3;38;5;51m: \u001b[0m\u001b[1;2;3;38;5;51m[\u001b[0m\u001b[1;2;3;38;5;51mTHOUGHT\u001b[0m\u001b[1;2;3;38;5;51m]\u001b[0m\u001b[1;2;3;38;5;51m \u001b[0m\n",
       "\u001b[1;2;3;38;5;51m              > I will now act a bit, and then issue DONE.\u001b[0m\n",
       "\u001b[1;2;3;38;5;51m>>>>>>>>> Date and time of events: \u001b[0m\u001b[1;2;3;38;5;51m2024\u001b[0m\u001b[1;2;3;38;5;51m-\u001b[0m\u001b[1;2;3;38;5;51m11\u001b[0m\u001b[1;2;3;38;5;51m-04T\u001b[0m\u001b[1;2;3;38;5;51m22:50:44\u001b[0m\u001b[1;2;3;38;5;51m.\u001b[0m\u001b[1;2;3;38;5;51m514465\u001b[0m\n",
       "\u001b[1;2;3;4;38;5;252mSamantha\u001b[0m\u001b[1;2;3;38;5;252m acts: \u001b[0m\u001b[1;2;3;38;5;252m[\u001b[0m\u001b[1;2;3;38;5;252mDONE\u001b[0m\u001b[1;2;3;38;5;252m]\u001b[0m\u001b[1;2;3;38;5;252m \u001b[0m\n",
       "\n",
       "\u001b[1;2;3;38;5;51m>>>>>>>>> Date and time of events: \u001b[0m\u001b[1;2;3;38;5;51m2024\u001b[0m\u001b[1;2;3;38;5;51m-\u001b[0m\u001b[1;2;3;38;5;51m11\u001b[0m\u001b[1;2;3;38;5;51m-04T\u001b[0m\u001b[1;2;3;38;5;51m22:50:44\u001b[0m\u001b[1;2;3;38;5;51m.\u001b[0m\u001b[1;2;3;38;5;51m514465\u001b[0m\n",
       "\u001b[1;2;3;4;38;5;51mLiam\u001b[0m\u001b[1;2;3;38;5;51m --> \u001b[0m\u001b[1;2;3;4;38;5;51mSamantha\u001b[0m\u001b[1;2;3;38;5;51m: \u001b[0m\u001b[1;2;3;38;5;51m[\u001b[0m\u001b[1;2;3;38;5;51mCONVERSATION\u001b[0m\u001b[1;2;3;38;5;51m]\u001b[0m\u001b[1;2;3;38;5;51m \u001b[0m\n",
       "\u001b[1;2;3;38;5;51m          > I'm glad we're on the same page, Samantha. Let's continue to use messaging effectively\u001b[0m\n",
       "\u001b[1;2;3;38;5;51m          > to keep our team aligned and informed.\u001b[0m\n"
      ]
     },
     "metadata": {},
     "output_type": "display_data"
    }
   ],
   "source": [
    "people[0].pp_current_interactions()"
   ]
  },
  {
   "cell_type": "code",
   "execution_count": null,
   "metadata": {},
   "outputs": [],
   "source": [
    "reducer = ResultsReducer()\n",
    "\n",
    "def aux_extract_content(focus_agent: TinyPerson, source_agent:TinyPerson, target_agent:TinyPerson, kind:str, event: str, content: str, timestamp:str):\n",
    "\n",
    "    if event == \"TALK\":\n",
    "        author = focus_agent.name\n",
    "    elif event == \"CONVERSATION\":\n",
    "        if source_agent is None:\n",
    "            author = \"USER\"\n",
    "        else:\n",
    "            author = source_agent.name\n",
    "    else:\n",
    "        raise ValueError(f\"Unknown event: {event}\")\n",
    "    \n",
    "    \n",
    "    entry = (author, content)\n",
    "    print(entry)\n",
    "    return entry\n",
    "    \n",
    "\n",
    "\n",
    "reducer.add_reduction_rule(\"TALK\", aux_extract_content)\n",
    "reducer.add_reduction_rule(\"CONVERSATION\", aux_extract_content)"
   ]
  },
  {
   "cell_type": "markdown",
   "metadata": {},
   "source": [
    "Finally, we obtain the dataframe with the data and save it to a `.csv`, for later use in other applications."
   ]
  },
  {
   "cell_type": "code",
   "execution_count": 10,
   "metadata": {},
   "outputs": [
    {
     "name": "stdout",
     "output_type": "stream",
     "text": [
      "('USER', 'Message each other to get work done.')\n",
      "('Samantha', \"Messaging can be a great tool for quick updates and clarifications. It's important to ensure everyone is on the same page and has access to the information they need.\")\n",
      "('Liam', \"Absolutely, Samantha. Messaging helps us stay connected and informed, which is crucial for our team's success.\")\n",
      "('Samantha', 'I completely agree, Liam. Consistent communication through messaging can really streamline our processes and ensure everyone is aligned.')\n",
      "('Liam', \"I'm glad we're on the same page, Samantha. Let's continue to use messaging effectively to keep our team aligned and informed.\")\n"
     ]
    },
    {
     "data": {
      "text/html": [
       "<div>\n",
       "<style scoped>\n",
       "    .dataframe tbody tr th:only-of-type {\n",
       "        vertical-align: middle;\n",
       "    }\n",
       "\n",
       "    .dataframe tbody tr th {\n",
       "        vertical-align: top;\n",
       "    }\n",
       "\n",
       "    .dataframe thead th {\n",
       "        text-align: right;\n",
       "    }\n",
       "</style>\n",
       "<table border=\"1\" class=\"dataframe\">\n",
       "  <thead>\n",
       "    <tr style=\"text-align: right;\">\n",
       "      <th></th>\n",
       "      <th>author</th>\n",
       "      <th>content</th>\n",
       "    </tr>\n",
       "  </thead>\n",
       "  <tbody>\n",
       "    <tr>\n",
       "      <th>0</th>\n",
       "      <td>USER</td>\n",
       "      <td>Message each other to get work done.</td>\n",
       "    </tr>\n",
       "    <tr>\n",
       "      <th>1</th>\n",
       "      <td>Samantha</td>\n",
       "      <td>Messaging can be a great tool for quick update...</td>\n",
       "    </tr>\n",
       "    <tr>\n",
       "      <th>2</th>\n",
       "      <td>Liam</td>\n",
       "      <td>Absolutely, Samantha. Messaging helps us stay ...</td>\n",
       "    </tr>\n",
       "    <tr>\n",
       "      <th>3</th>\n",
       "      <td>Samantha</td>\n",
       "      <td>I completely agree, Liam. Consistent communica...</td>\n",
       "    </tr>\n",
       "    <tr>\n",
       "      <th>4</th>\n",
       "      <td>Liam</td>\n",
       "      <td>I'm glad we're on the same page, Samantha. Let...</td>\n",
       "    </tr>\n",
       "  </tbody>\n",
       "</table>\n",
       "</div>"
      ],
      "text/plain": [
       "     author                                            content\n",
       "0      USER               Message each other to get work done.\n",
       "1  Samantha  Messaging can be a great tool for quick update...\n",
       "2      Liam  Absolutely, Samantha. Messaging helps us stay ...\n",
       "3  Samantha  I completely agree, Liam. Consistent communica...\n",
       "4      Liam  I'm glad we're on the same page, Samantha. Let..."
      ]
     },
     "execution_count": 10,
     "metadata": {},
     "output_type": "execute_result"
    }
   ],
   "source": [
    "df = reducer.reduce_agent_to_dataframe(people[0], column_names=[\"author\", \"content\"])\n",
    "df"
   ]
  },
  {
   "cell_type": "code",
   "execution_count": 11,
   "metadata": {},
   "outputs": [],
   "source": [
    "df.to_csv(\"../data/extractions/synthetic_data_generation.out.csv\", index=False)"
   ]
  }
 ],
 "metadata": {
  "kernelspec": {
   "display_name": "tinytroupe",
   "language": "python",
   "name": "python3"
  },
  "language_info": {
   "codemirror_mode": {
    "name": "ipython",
    "version": 3
   },
   "file_extension": ".py",
   "mimetype": "text/x-python",
   "name": "python",
   "nbconvert_exporter": "python",
   "pygments_lexer": "ipython3",
   "version": "3.10.16"
  },
  "orig_nbformat": 4
 },
 "nbformat": 4,
 "nbformat_minor": 2
}
